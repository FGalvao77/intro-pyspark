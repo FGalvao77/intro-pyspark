{
 "cells": [
  {
   "cell_type": "markdown",
   "id": "7c67262d-aa3d-4471-8ad9-f5f89e0cde0d",
   "metadata": {},
   "source": [
    "<br>\n",
    "\n",
    "<font size=6 color='green'>**Introdução ao PySpark**<font>\n",
    "\n",
    "---\n",
    "---"
   ]
  },
  {
   "cell_type": "markdown",
   "id": "bedb20da-7dc0-4756-8640-6907ad5b848b",
   "metadata": {},
   "source": [
    "Utilizando o `PySpark` para realizar modelo de classificação."
   ]
  },
  {
   "cell_type": "code",
   "execution_count": 1,
   "id": "fa03e49a-e721-41c7-8d23-ec3228e6d85f",
   "metadata": {},
   "outputs": [
    {
     "name": "stdout",
     "output_type": "stream",
     "text": [
      "[VERSION] Python: 3.10.12\n"
     ]
    }
   ],
   "source": [
    "# versão da linguagem python\n",
    "from platform import python_version\n",
    "print('[VERSION] Python:', python_version())"
   ]
  },
  {
   "cell_type": "code",
   "execution_count": 2,
   "id": "07d333cf-b103-4e9d-8740-ba55fe4b5b81",
   "metadata": {},
   "outputs": [],
   "source": [
    "# importando a biblioteca \"warnings\" para ignorar mensagens de alerta\n",
    "import warnings\n",
    "warnings.filterwarnings(action='ignore')"
   ]
  },
  {
   "cell_type": "code",
   "execution_count": 3,
   "id": "bbe2ee5f-46a4-45f0-b2c6-86abe539ac7e",
   "metadata": {},
   "outputs": [
    {
     "name": "stdout",
     "output_type": "stream",
     "text": [
      "[VERSION] PySpark: 3.2.4\n"
     ]
    }
   ],
   "source": [
    "# importando o \"pyspark\" e visualizando sua versão\n",
    "import pyspark as ps\n",
    "print('[VERSION] PySpark:', ps.__version__)"
   ]
  },
  {
   "cell_type": "code",
   "execution_count": 4,
   "id": "16af2ed0-ad23-4766-9e9a-2364bfb59e11",
   "metadata": {},
   "outputs": [
    {
     "data": {
      "text/plain": [
       "'/home/fernandogalvao/Área de Trabalho/intro-pyspark/my-project/my_project'"
      ]
     },
     "execution_count": 4,
     "metadata": {},
     "output_type": "execute_result"
    }
   ],
   "source": [
    "# visualizando o diretório local de trabalho\n",
    "%pwd"
   ]
  },
  {
   "cell_type": "code",
   "execution_count": 5,
   "id": "b440e043-40c5-49ca-951a-24095c7b46a2",
   "metadata": {},
   "outputs": [
    {
     "name": "stdout",
     "output_type": "stream",
     "text": [
      "mkdir: cannot create directory ‘data’: File exists\n"
     ]
    }
   ],
   "source": [
    "# criando uma pasta para alocar o conjunto de dados\n",
    "%mkdir data"
   ]
  },
  {
   "cell_type": "code",
   "execution_count": 6,
   "id": "3575d47f-1342-4e10-97a2-ded305264a53",
   "metadata": {},
   "outputs": [
    {
     "name": "stdout",
     "output_type": "stream",
     "text": [
      "01-intro.ipynb  \u001b[0m\u001b[01;34mdata\u001b[0m/  __init__.py\n"
     ]
    }
   ],
   "source": [
    "# visualizando os arquivos/pastas presente no local\n",
    "%ls"
   ]
  },
  {
   "cell_type": "code",
   "execution_count": 7,
   "id": "23a7c9b8-bea1-4fa8-afdf-c27368f3ae2e",
   "metadata": {},
   "outputs": [
    {
     "name": "stdout",
     "output_type": "stream",
     "text": [
      "  % Total    % Received % Xferd  Average Speed   Time    Time     Time  Current\n",
      "                                 Dload  Upload   Total   Spent    Left  Speed\n",
      "100 5698k  100 5698k    0     0  10.5M      0 --:--:-- --:--:-- --:--:-- 10.5M\n"
     ]
    }
   ],
   "source": [
    "# importando o conjunto de dados para a pasta \"data\"\n",
    "!curl https://raw.githubusercontent.com/selva86/datasets/master/bank-full.csv >> data/bank.csv"
   ]
  },
  {
   "cell_type": "code",
   "execution_count": 8,
   "id": "8d611333-da55-4232-846a-cd7d91ba0fa8",
   "metadata": {},
   "outputs": [
    {
     "name": "stdout",
     "output_type": "stream",
     "text": [
      "bank.csv\n"
     ]
    }
   ],
   "source": [
    "# visualizando o conteúdo da pasta \"data\"\n",
    "%ls data/"
   ]
  },
  {
   "cell_type": "code",
   "execution_count": 9,
   "id": "0069b437-b6ef-4acd-b51d-1c4f7c1cffbe",
   "metadata": {},
   "outputs": [
    {
     "name": "stdout",
     "output_type": "stream",
     "text": [
      "\"age\";\"job\";\"marital\";\"education\";\"default\";\"housing\";\"loan\";\"contact\";\"month\";\"day_of_week\";\"duration\";\"campaign\";\"pdays\";\"previous\";\"poutcome\";\"emp.var.rate\";\"cons.price.idx\";\"cons.conf.idx\";\"euribor3m\";\"nr.employed\";\"y\"\n",
      "56;\"housemaid\";\"married\";\"basic.4y\";\"no\";\"no\";\"no\";\"telephone\";\"may\";\"mon\";261;1;999;0;\"nonexistent\";1.1;93.994;-36.4;4.857;5191;\"no\"\n",
      "57;\"services\";\"married\";\"high.school\";\"unknown\";\"no\";\"no\";\"telephone\";\"may\";\"mon\";149;1;999;0;\"nonexistent\";1.1;93.994;-36.4;4.857;5191;\"no\"\n",
      "37;\"services\";\"married\";\"high.school\";\"no\";\"yes\";\"no\";\"telephone\";\"may\";\"mon\";226;1;999;0;\"nonexistent\";1.1;93.994;-36.4;4.857;5191;\"no\"\n",
      "40;\"admin.\";\"married\";\"basic.6y\";\"no\";\"no\";\"no\";\"telephone\";\"may\";\"mon\";151;1;999;0;\"nonexistent\";1.1;93.994;-36.4;4.857;5191;\"no\"\n",
      "56;\"services\";\"married\";\"high.school\";\"no\";\"no\";\"yes\";\"telephone\";\"may\";\"mon\";307;1;999;0;\"nonexistent\";1.1;93.994;-36.4;4.857;5191;\"no\"\n",
      "45;\"services\";\"married\";\"basic.9y\";\"unknown\";\"no\";\"no\";\"telephone\";\"may\";\"mon\";198;1;999;0;\"nonexistent\";1.1;93.994;-36.4;4.857;5191;\"no\"\n",
      "59;\"admin.\";\"married\";\"professional.course\";\"no\";\"no\";\"no\";\"telephone\";\"may\";\"mon\";139;1;999;0;\"nonexistent\";1.1;93.994;-36.4;4.857;5191;\"no\"\n",
      "41;\"blue-collar\";\"married\";\"unknown\";\"unknown\";\"no\";\"no\";\"telephone\";\"may\";\"mon\";217;1;999;0;\"nonexistent\";1.1;93.994;-36.4;4.857;5191;\"no\"\n",
      "24;\"technician\";\"single\";\"professional.course\";\"no\";\"yes\";\"no\";\"telephone\";\"may\";\"mon\";380;1;999;0;\"nonexistent\";1.1;93.994;-36.4;4.857;5191;\"no\"\n"
     ]
    }
   ],
   "source": [
    "# visualizando o conjunto de dados\n",
    "!head data/bank.csv"
   ]
  },
  {
   "cell_type": "code",
   "execution_count": 10,
   "id": "6bea2673-5832-4637-aecc-8bd12853a398",
   "metadata": {},
   "outputs": [],
   "source": [
    "# importando o módulo/função para iniciar a sessão do \"pyspark\"\n",
    "from pyspark.sql import SparkSession"
   ]
  },
  {
   "cell_type": "code",
   "execution_count": 11,
   "id": "4f29a05f-f5b2-4f80-9575-bf2a19de189b",
   "metadata": {},
   "outputs": [
    {
     "name": "stderr",
     "output_type": "stream",
     "text": [
      "24/02/25 21:34:19 WARN Utils: Your hostname, fernandogalvao-Inspiron-3583 resolves to a loopback address: 127.0.1.1; using 192.168.1.42 instead (on interface wlo1)\n",
      "24/02/25 21:34:19 WARN Utils: Set SPARK_LOCAL_IP if you need to bind to another address\n",
      "Using Spark's default log4j profile: org/apache/spark/log4j-defaults.properties\n",
      "Setting default log level to \"WARN\".\n",
      "To adjust logging level use sc.setLogLevel(newLevel). For SparkR, use setLogLevel(newLevel).\n",
      "24/02/25 21:34:20 WARN NativeCodeLoader: Unable to load native-hadoop library for your platform... using builtin-java classes where applicable\n"
     ]
    },
    {
     "data": {
      "text/html": [
       "\n",
       "            <div>\n",
       "                <p><b>SparkSession - in-memory</b></p>\n",
       "                \n",
       "        <div>\n",
       "            <p><b>SparkContext</b></p>\n",
       "\n",
       "            <p><a href=\"http://192.168.1.42:4040\">Spark UI</a></p>\n",
       "\n",
       "            <dl>\n",
       "              <dt>Version</dt>\n",
       "                <dd><code>v3.2.4</code></dd>\n",
       "              <dt>Master</dt>\n",
       "                <dd><code>local[*]</code></dd>\n",
       "              <dt>AppName</dt>\n",
       "                <dd><code>intro-pyspark</code></dd>\n",
       "            </dl>\n",
       "        </div>\n",
       "        \n",
       "            </div>\n",
       "        "
      ],
      "text/plain": [
       "<pyspark.sql.session.SparkSession at 0x7ffa13ba6170>"
      ]
     },
     "execution_count": 11,
     "metadata": {},
     "output_type": "execute_result"
    }
   ],
   "source": [
    "# instanciando a sessão\n",
    "spark_session = SparkSession\\\n",
    "    .builder\\\n",
    "    .master('local[*]')\\\n",
    "    .appName(name='intro-pyspark')\\\n",
    "    .getOrCreate()\n",
    "\n",
    "spark_session"
   ]
  },
  {
   "cell_type": "code",
   "execution_count": 12,
   "id": "c4b02ec9-2d2f-484d-9044-9bb5cd8778e6",
   "metadata": {},
   "outputs": [
    {
     "data": {
      "text/plain": [
       "pyspark.sql.dataframe.DataFrame"
      ]
     },
     "execution_count": 12,
     "metadata": {},
     "output_type": "execute_result"
    }
   ],
   "source": [
    "# instanciando o objeto \"dataframe\" \n",
    "df = spark_session.read.csv(path='data/bank.csv', \n",
    "                            header=True,\n",
    "                            inferSchema=True, \n",
    "                            sep=';')\n",
    "\n",
    "# visualizando o tipo do objeto instanciado\n",
    "type(df)"
   ]
  },
  {
   "cell_type": "code",
   "execution_count": 13,
   "id": "21d6dfee-2e26-4c11-8521-d0294a4a086e",
   "metadata": {},
   "outputs": [
    {
     "name": "stdout",
     "output_type": "stream",
     "text": [
      "root\n",
      " |-- age: integer (nullable = true)\n",
      " |-- job: string (nullable = true)\n",
      " |-- marital: string (nullable = true)\n",
      " |-- education: string (nullable = true)\n",
      " |-- default: string (nullable = true)\n",
      " |-- housing: string (nullable = true)\n",
      " |-- loan: string (nullable = true)\n",
      " |-- contact: string (nullable = true)\n",
      " |-- month: string (nullable = true)\n",
      " |-- day_of_week: string (nullable = true)\n",
      " |-- duration: integer (nullable = true)\n",
      " |-- campaign: integer (nullable = true)\n",
      " |-- pdays: integer (nullable = true)\n",
      " |-- previous: integer (nullable = true)\n",
      " |-- poutcome: string (nullable = true)\n",
      " |-- emp.var.rate: double (nullable = true)\n",
      " |-- cons.price.idx: double (nullable = true)\n",
      " |-- cons.conf.idx: double (nullable = true)\n",
      " |-- euribor3m: double (nullable = true)\n",
      " |-- nr.employed: double (nullable = true)\n",
      " |-- y: string (nullable = true)\n",
      "\n"
     ]
    }
   ],
   "source": [
    "# visualizando o esquema do objeto criado\n",
    "df.printSchema()"
   ]
  },
  {
   "cell_type": "code",
   "execution_count": 14,
   "id": "4572b968-69c6-416e-8a13-9788c8e46174",
   "metadata": {},
   "outputs": [
    {
     "data": {
      "text/plain": [
       "DataFrame[age: int, job: string, marital: string, education: string, default: string, housing: string, loan: string, contact: string, month: string, day_of_week: string, duration: int, campaign: int, pdays: int, previous: int, poutcome: string, emp.var.rate: double, cons.price.idx: double, cons.conf.idx: double, euribor3m: double, nr.employed: double, y: string]"
      ]
     },
     "execution_count": 14,
     "metadata": {},
     "output_type": "execute_result"
    }
   ],
   "source": [
    "# visualizando o conjunto de dados\n",
    "df"
   ]
  },
  {
   "cell_type": "code",
   "execution_count": 15,
   "id": "20265201-1225-4410-936e-d437c9d02958",
   "metadata": {},
   "outputs": [
    {
     "data": {
      "text/plain": [
       "[Row(age=56, job='housemaid', marital='married', education='basic.4y', default='no', housing='no', loan='no', contact='telephone', month='may', day_of_week='mon', duration=261, campaign=1, pdays=999, previous=0, poutcome='nonexistent', emp.var.rate=1.1, cons.price.idx=93.994, cons.conf.idx=-36.4, euribor3m=4.857, nr.employed=5191.0, y='no'),\n",
       " Row(age=57, job='services', marital='married', education='high.school', default='unknown', housing='no', loan='no', contact='telephone', month='may', day_of_week='mon', duration=149, campaign=1, pdays=999, previous=0, poutcome='nonexistent', emp.var.rate=1.1, cons.price.idx=93.994, cons.conf.idx=-36.4, euribor3m=4.857, nr.employed=5191.0, y='no'),\n",
       " Row(age=37, job='services', marital='married', education='high.school', default='no', housing='yes', loan='no', contact='telephone', month='may', day_of_week='mon', duration=226, campaign=1, pdays=999, previous=0, poutcome='nonexistent', emp.var.rate=1.1, cons.price.idx=93.994, cons.conf.idx=-36.4, euribor3m=4.857, nr.employed=5191.0, y='no'),\n",
       " Row(age=40, job='admin.', marital='married', education='basic.6y', default='no', housing='no', loan='no', contact='telephone', month='may', day_of_week='mon', duration=151, campaign=1, pdays=999, previous=0, poutcome='nonexistent', emp.var.rate=1.1, cons.price.idx=93.994, cons.conf.idx=-36.4, euribor3m=4.857, nr.employed=5191.0, y='no'),\n",
       " Row(age=56, job='services', marital='married', education='high.school', default='no', housing='no', loan='yes', contact='telephone', month='may', day_of_week='mon', duration=307, campaign=1, pdays=999, previous=0, poutcome='nonexistent', emp.var.rate=1.1, cons.price.idx=93.994, cons.conf.idx=-36.4, euribor3m=4.857, nr.employed=5191.0, y='no')]"
      ]
     },
     "execution_count": 15,
     "metadata": {},
     "output_type": "execute_result"
    }
   ],
   "source": [
    "# visualizando as 5 primeiras linhas do conjunto de dados\n",
    "df.head(n=5)"
   ]
  },
  {
   "cell_type": "code",
   "execution_count": 16,
   "id": "8845ea76-d15a-4009-befc-0c94d3321625",
   "metadata": {},
   "outputs": [
    {
     "name": "stdout",
     "output_type": "stream",
     "text": [
      "+---+---------+-------+-----------+-------+-------+----+---------+-----+-----------+--------+--------+-----+--------+-----------+------------+--------------+-------------+---------+-----------+---+\n",
      "|age|      job|marital|  education|default|housing|loan|  contact|month|day_of_week|duration|campaign|pdays|previous|   poutcome|emp.var.rate|cons.price.idx|cons.conf.idx|euribor3m|nr.employed|  y|\n",
      "+---+---------+-------+-----------+-------+-------+----+---------+-----+-----------+--------+--------+-----+--------+-----------+------------+--------------+-------------+---------+-----------+---+\n",
      "| 56|housemaid|married|   basic.4y|     no|     no|  no|telephone|  may|        mon|     261|       1|  999|       0|nonexistent|         1.1|        93.994|        -36.4|    4.857|     5191.0| no|\n",
      "| 57| services|married|high.school|unknown|     no|  no|telephone|  may|        mon|     149|       1|  999|       0|nonexistent|         1.1|        93.994|        -36.4|    4.857|     5191.0| no|\n",
      "| 37| services|married|high.school|     no|    yes|  no|telephone|  may|        mon|     226|       1|  999|       0|nonexistent|         1.1|        93.994|        -36.4|    4.857|     5191.0| no|\n",
      "+---+---------+-------+-----------+-------+-------+----+---------+-----+-----------+--------+--------+-----+--------+-----------+------------+--------------+-------------+---------+-----------+---+\n",
      "only showing top 3 rows\n",
      "\n"
     ]
    }
   ],
   "source": [
    "# utilizando o método \".show()\" e passando como argumente a quantidade de linhas \"n=3\"\n",
    "df.show(n=3)"
   ]
  },
  {
   "cell_type": "code",
   "execution_count": 17,
   "id": "1a7ca2d6-bee1-49f5-af3b-6bc76ff163a2",
   "metadata": {},
   "outputs": [
    {
     "data": {
      "text/plain": [
       "[('age', 'int'),\n",
       " ('job', 'string'),\n",
       " ('marital', 'string'),\n",
       " ('education', 'string'),\n",
       " ('default', 'string'),\n",
       " ('housing', 'string'),\n",
       " ('loan', 'string'),\n",
       " ('contact', 'string'),\n",
       " ('month', 'string'),\n",
       " ('day_of_week', 'string'),\n",
       " ('duration', 'int'),\n",
       " ('campaign', 'int'),\n",
       " ('pdays', 'int'),\n",
       " ('previous', 'int'),\n",
       " ('poutcome', 'string'),\n",
       " ('emp.var.rate', 'double'),\n",
       " ('cons.price.idx', 'double'),\n",
       " ('cons.conf.idx', 'double'),\n",
       " ('euribor3m', 'double'),\n",
       " ('nr.employed', 'double'),\n",
       " ('y', 'string')]"
      ]
     },
     "execution_count": 17,
     "metadata": {},
     "output_type": "execute_result"
    }
   ],
   "source": [
    "# visualizando o tipo de dados em cada atributo\n",
    "df.dtypes"
   ]
  },
  {
   "cell_type": "code",
   "execution_count": 18,
   "id": "d6946e9c-c1bd-4ac7-aad2-b2fcf419d1bf",
   "metadata": {},
   "outputs": [
    {
     "data": {
      "text/plain": [
       "(41188, 21)"
      ]
     },
     "execution_count": 18,
     "metadata": {},
     "output_type": "execute_result"
    }
   ],
   "source": [
    "# contabilizando a contagem de linhas (observações) e colunas (atributos)\n",
    "df.count(), len(df.columns)"
   ]
  },
  {
   "cell_type": "code",
   "execution_count": 19,
   "id": "5ee16ccb-71da-4c6b-98cd-0f7f0109f76d",
   "metadata": {},
   "outputs": [],
   "source": [
    "# criando uma função para contabilizar a dimensão do conjunto de dados - linhas e colunas\n",
    "def dataframe_dim(df: object):\n",
    "    num_rows = df.count()\n",
    "    num_cols = len(df.columns)\n",
    "    return (num_rows, num_cols)"
   ]
  },
  {
   "cell_type": "code",
   "execution_count": 20,
   "id": "685e75d1-1432-47fb-bb17-ac9450cb8d29",
   "metadata": {},
   "outputs": [
    {
     "data": {
      "text/plain": [
       "(41188, 21)"
      ]
     },
     "execution_count": 20,
     "metadata": {},
     "output_type": "execute_result"
    }
   ],
   "source": [
    "# aplicando a função no conjunto de dados\n",
    "dataframe_dim(df)"
   ]
  },
  {
   "cell_type": "code",
   "execution_count": 21,
   "id": "32ee8627-4074-4a11-8de5-39beec2f0b99",
   "metadata": {},
   "outputs": [
    {
     "name": "stderr",
     "output_type": "stream",
     "text": [
      "[Stage 10:=============================>                            (1 + 1) / 2]\r"
     ]
    },
    {
     "name": "stdout",
     "output_type": "stream",
     "text": [
      "-RECORD 0-----------------------------\n",
      " summary        | count               \n",
      " age            | 41188               \n",
      " job            | 41188               \n",
      " marital        | 41188               \n",
      " education      | 41188               \n",
      " default        | 41188               \n",
      " housing        | 41188               \n",
      " loan           | 41188               \n",
      " contact        | 41188               \n",
      " month          | 41188               \n",
      " day_of_week    | 41188               \n",
      " duration       | 41188               \n",
      " campaign       | 41188               \n",
      " pdays          | 41188               \n",
      " previous       | 41188               \n",
      " poutcome       | 41188               \n",
      " emp.var.rate   | 41188               \n",
      " cons.price.idx | 41188               \n",
      " cons.conf.idx  | 41188               \n",
      " euribor3m      | 41188               \n",
      " nr.employed    | 41188               \n",
      " y              | 41188               \n",
      "-RECORD 1-----------------------------\n",
      " summary        | mean                \n",
      " age            | 40.02406040594348   \n",
      " job            | null                \n",
      " marital        | null                \n",
      " education      | null                \n",
      " default        | null                \n",
      " housing        | null                \n",
      " loan           | null                \n",
      " contact        | null                \n",
      " month          | null                \n",
      " day_of_week    | null                \n",
      " duration       | 258.2850101971448   \n",
      " campaign       | 2.567592502670681   \n",
      " pdays          | 962.4754540157328   \n",
      " previous       | 0.17296299893172767 \n",
      " poutcome       | null                \n",
      " emp.var.rate   | 0.08188550063178392 \n",
      " cons.price.idx | 93.57566436828918   \n",
      " cons.conf.idx  | -40.50260027191787  \n",
      " euribor3m      | 3.6212908128585366  \n",
      " nr.employed    | 5167.035910944004   \n",
      " y              | null                \n",
      "-RECORD 2-----------------------------\n",
      " summary        | stddev              \n",
      " age            | 10.421249980934057  \n",
      " job            | null                \n",
      " marital        | null                \n",
      " education      | null                \n",
      " default        | null                \n",
      " housing        | null                \n",
      " loan           | null                \n",
      " contact        | null                \n",
      " month          | null                \n",
      " day_of_week    | null                \n",
      " duration       | 259.27924883646455  \n",
      " campaign       | 2.770013542902331   \n",
      " pdays          | 186.9109073447414   \n",
      " previous       | 0.49490107983928927 \n",
      " poutcome       | null                \n",
      " emp.var.rate   | 1.57095974051703    \n",
      " cons.price.idx | 0.5788400489541355  \n",
      " cons.conf.idx  | 4.628197856174595   \n",
      " euribor3m      | 1.7344474048512557  \n",
      " nr.employed    | 72.25152766825924   \n",
      " y              | null                \n",
      "-RECORD 3-----------------------------\n",
      " summary        | min                 \n",
      " age            | 17                  \n",
      " job            | admin.              \n",
      " marital        | divorced            \n",
      " education      | basic.4y            \n",
      " default        | no                  \n",
      " housing        | no                  \n",
      " loan           | no                  \n",
      " contact        | cellular            \n",
      " month          | apr                 \n",
      " day_of_week    | fri                 \n",
      " duration       | 0                   \n",
      " campaign       | 1                   \n",
      " pdays          | 0                   \n",
      " previous       | 0                   \n",
      " poutcome       | failure             \n",
      " emp.var.rate   | -3.4                \n",
      " cons.price.idx | 92.201              \n",
      " cons.conf.idx  | -50.8               \n",
      " euribor3m      | 0.634               \n",
      " nr.employed    | 4963.6              \n",
      " y              | no                  \n",
      "-RECORD 4-----------------------------\n",
      " summary        | max                 \n",
      " age            | 98                  \n",
      " job            | unknown             \n",
      " marital        | unknown             \n",
      " education      | unknown             \n",
      " default        | yes                 \n",
      " housing        | yes                 \n",
      " loan           | yes                 \n",
      " contact        | telephone           \n",
      " month          | sep                 \n",
      " day_of_week    | wed                 \n",
      " duration       | 4918                \n",
      " campaign       | 56                  \n",
      " pdays          | 999                 \n",
      " previous       | 7                   \n",
      " poutcome       | success             \n",
      " emp.var.rate   | 1.4                 \n",
      " cons.price.idx | 94.767              \n",
      " cons.conf.idx  | -26.9               \n",
      " euribor3m      | 5.045               \n",
      " nr.employed    | 5228.1              \n",
      " y              | yes                 \n",
      "\n"
     ]
    },
    {
     "name": "stderr",
     "output_type": "stream",
     "text": [
      "                                                                                \r"
     ]
    }
   ],
   "source": [
    "# estatística descritiva do conjunto de dados\n",
    "df.describe().show(vertical=True, truncate=False)"
   ]
  },
  {
   "cell_type": "code",
   "execution_count": 22,
   "id": "f620a9b6-ee82-4b12-b654-807f0c5e6f96",
   "metadata": {},
   "outputs": [
    {
     "name": "stdout",
     "output_type": "stream",
     "text": [
      "+-------------+-----+\n",
      "|          job|count|\n",
      "+-------------+-----+\n",
      "|       admin.|10422|\n",
      "|  blue-collar| 9254|\n",
      "| entrepreneur| 1456|\n",
      "|    housemaid| 1060|\n",
      "|   management| 2924|\n",
      "|      retired| 1720|\n",
      "|self-employed| 1421|\n",
      "|     services| 3969|\n",
      "|      student|  875|\n",
      "|   technician| 6743|\n",
      "|   unemployed| 1014|\n",
      "|      unknown|  330|\n",
      "+-------------+-----+\n",
      "\n"
     ]
    }
   ],
   "source": [
    "# realizando o agrupamento dos dados do atributo \"job\" e visualizando o resultado\n",
    "df.groupBy('job').count().sort('job').show()"
   ]
  },
  {
   "cell_type": "code",
   "execution_count": 23,
   "id": "fe5b5d45-15de-4a6d-9327-5445cab52d67",
   "metadata": {},
   "outputs": [
    {
     "data": {
      "text/plain": [
       "-0.0008657050101409879"
      ]
     },
     "execution_count": 23,
     "metadata": {},
     "output_type": "execute_result"
    }
   ],
   "source": [
    "# visualizando a correlação entre os atributos \"age\" e \"duration\"\n",
    "df.corr(col1='age', col2='duration')"
   ]
  },
  {
   "cell_type": "code",
   "execution_count": 24,
   "id": "da2598f4-cca1-4920-b2a3-0543afea3934",
   "metadata": {},
   "outputs": [],
   "source": [
    "# agrupando os dados do atributo \"job\"\n",
    "job_count = df.groupBy('job').count().sort('job')"
   ]
  },
  {
   "cell_type": "code",
   "execution_count": 25,
   "id": "249abd9d-544c-4ba5-b6ca-d3822e8f7077",
   "metadata": {},
   "outputs": [
    {
     "name": "stdout",
     "output_type": "stream",
     "text": [
      "+-------------+-----+\n",
      "|          job|count|\n",
      "+-------------+-----+\n",
      "|       admin.|10422|\n",
      "|  blue-collar| 9254|\n",
      "| entrepreneur| 1456|\n",
      "|    housemaid| 1060|\n",
      "|   management| 2924|\n",
      "|      retired| 1720|\n",
      "|self-employed| 1421|\n",
      "|     services| 3969|\n",
      "|      student|  875|\n",
      "|   technician| 6743|\n",
      "|   unemployed| 1014|\n",
      "|      unknown|  330|\n",
      "+-------------+-----+\n",
      "\n"
     ]
    }
   ],
   "source": [
    "# visualizando o resultado do objeto criado acima\n",
    "job_count.show()"
   ]
  },
  {
   "cell_type": "code",
   "execution_count": 26,
   "id": "3b6741c8-4565-477b-9cf8-e64bc1bad83f",
   "metadata": {},
   "outputs": [
    {
     "data": {
      "text/html": [
       "<div>\n",
       "<style scoped>\n",
       "    .dataframe tbody tr th:only-of-type {\n",
       "        vertical-align: middle;\n",
       "    }\n",
       "\n",
       "    .dataframe tbody tr th {\n",
       "        vertical-align: top;\n",
       "    }\n",
       "\n",
       "    .dataframe thead th {\n",
       "        text-align: right;\n",
       "    }\n",
       "</style>\n",
       "<table border=\"1\" class=\"dataframe\">\n",
       "  <thead>\n",
       "    <tr style=\"text-align: right;\">\n",
       "      <th></th>\n",
       "      <th>job</th>\n",
       "      <th>count</th>\n",
       "    </tr>\n",
       "  </thead>\n",
       "  <tbody>\n",
       "    <tr>\n",
       "      <th>0</th>\n",
       "      <td>admin.</td>\n",
       "      <td>10422</td>\n",
       "    </tr>\n",
       "    <tr>\n",
       "      <th>1</th>\n",
       "      <td>blue-collar</td>\n",
       "      <td>9254</td>\n",
       "    </tr>\n",
       "    <tr>\n",
       "      <th>2</th>\n",
       "      <td>entrepreneur</td>\n",
       "      <td>1456</td>\n",
       "    </tr>\n",
       "    <tr>\n",
       "      <th>3</th>\n",
       "      <td>housemaid</td>\n",
       "      <td>1060</td>\n",
       "    </tr>\n",
       "    <tr>\n",
       "      <th>4</th>\n",
       "      <td>management</td>\n",
       "      <td>2924</td>\n",
       "    </tr>\n",
       "    <tr>\n",
       "      <th>5</th>\n",
       "      <td>retired</td>\n",
       "      <td>1720</td>\n",
       "    </tr>\n",
       "    <tr>\n",
       "      <th>6</th>\n",
       "      <td>self-employed</td>\n",
       "      <td>1421</td>\n",
       "    </tr>\n",
       "    <tr>\n",
       "      <th>7</th>\n",
       "      <td>services</td>\n",
       "      <td>3969</td>\n",
       "    </tr>\n",
       "    <tr>\n",
       "      <th>8</th>\n",
       "      <td>student</td>\n",
       "      <td>875</td>\n",
       "    </tr>\n",
       "    <tr>\n",
       "      <th>9</th>\n",
       "      <td>technician</td>\n",
       "      <td>6743</td>\n",
       "    </tr>\n",
       "    <tr>\n",
       "      <th>10</th>\n",
       "      <td>unemployed</td>\n",
       "      <td>1014</td>\n",
       "    </tr>\n",
       "    <tr>\n",
       "      <th>11</th>\n",
       "      <td>unknown</td>\n",
       "      <td>330</td>\n",
       "    </tr>\n",
       "  </tbody>\n",
       "</table>\n",
       "</div>"
      ],
      "text/plain": [
       "              job  count\n",
       "0          admin.  10422\n",
       "1     blue-collar   9254\n",
       "2    entrepreneur   1456\n",
       "3       housemaid   1060\n",
       "4      management   2924\n",
       "5         retired   1720\n",
       "6   self-employed   1421\n",
       "7        services   3969\n",
       "8         student    875\n",
       "9      technician   6743\n",
       "10     unemployed   1014\n",
       "11        unknown    330"
      ]
     },
     "execution_count": 26,
     "metadata": {},
     "output_type": "execute_result"
    }
   ],
   "source": [
    "# realizando novamente o agrupamento do atributo \"job\" e utilizando o método \".toPandas()\"\n",
    "# para transformar em um objeto do Pandas\n",
    "job_count2 = df.groupBy('job').count().sort('job').toPandas()\n",
    "job_count2"
   ]
  },
  {
   "cell_type": "code",
   "execution_count": 27,
   "id": "03816425-7802-46f5-81c4-88b7956cb330",
   "metadata": {},
   "outputs": [
    {
     "name": "stdout",
     "output_type": "stream",
     "text": [
      "+-----------+-----+\n",
      "|   poutcome|count|\n",
      "+-----------+-----+\n",
      "|    success| 1373|\n",
      "|    failure| 4252|\n",
      "|nonexistent|35563|\n",
      "+-----------+-----+\n",
      "\n"
     ]
    }
   ],
   "source": [
    "# agrupando os dados do atributo \"poutcome\", contabilizando e exibindo o resultado \n",
    "df.groupBy('poutcome').count().show()"
   ]
  },
  {
   "cell_type": "code",
   "execution_count": 28,
   "id": "22bd2278-eb02-4913-8368-b69c6409d055",
   "metadata": {},
   "outputs": [],
   "source": [
    "# importando a biblioteca pandas\n",
    "import pandas as pd"
   ]
  },
  {
   "cell_type": "code",
   "execution_count": 29,
   "id": "ce805c5f-9f98-442d-865a-e679e34681b0",
   "metadata": {},
   "outputs": [
    {
     "name": "stderr",
     "output_type": "stream",
     "text": [
      "                                                                                \r"
     ]
    },
    {
     "data": {
      "text/plain": [
       "(pandas.core.frame.DataFrame,\n",
       " Index(['age', 'job', 'marital', 'education', 'default', 'housing', 'loan',\n",
       "        'contact', 'month', 'day_of_week', 'duration', 'campaign', 'pdays',\n",
       "        'previous', 'poutcome', 'emp.var.rate', 'cons.price.idx',\n",
       "        'cons.conf.idx', 'euribor3m', 'nr.employed', 'y'],\n",
       "       dtype='object'))"
      ]
     },
     "execution_count": 29,
     "metadata": {},
     "output_type": "execute_result"
    }
   ],
   "source": [
    "# pegando o objeto df e instanciando em um objeto \"dataframe\" do pandas\n",
    "df_pandas = df.select('*').toPandas()\n",
    "\n",
    "# visualizando o tipo do objeto e as colunas presente no novo objeto\n",
    "type(df_pandas), df_pandas.columns"
   ]
  },
  {
   "cell_type": "code",
   "execution_count": 30,
   "id": "95daf0e1-4966-4632-b272-d85b831c90e9",
   "metadata": {},
   "outputs": [
    {
     "data": {
      "text/html": [
       "<div>\n",
       "<style scoped>\n",
       "    .dataframe tbody tr th:only-of-type {\n",
       "        vertical-align: middle;\n",
       "    }\n",
       "\n",
       "    .dataframe tbody tr th {\n",
       "        vertical-align: top;\n",
       "    }\n",
       "\n",
       "    .dataframe thead th {\n",
       "        text-align: right;\n",
       "    }\n",
       "</style>\n",
       "<table border=\"1\" class=\"dataframe\">\n",
       "  <thead>\n",
       "    <tr style=\"text-align: right;\">\n",
       "      <th></th>\n",
       "      <th>age</th>\n",
       "      <th>job</th>\n",
       "      <th>marital</th>\n",
       "      <th>education</th>\n",
       "      <th>default</th>\n",
       "      <th>housing</th>\n",
       "      <th>loan</th>\n",
       "      <th>contact</th>\n",
       "      <th>month</th>\n",
       "      <th>day_of_week</th>\n",
       "      <th>...</th>\n",
       "      <th>campaign</th>\n",
       "      <th>pdays</th>\n",
       "      <th>previous</th>\n",
       "      <th>poutcome</th>\n",
       "      <th>emp.var.rate</th>\n",
       "      <th>cons.price.idx</th>\n",
       "      <th>cons.conf.idx</th>\n",
       "      <th>euribor3m</th>\n",
       "      <th>nr.employed</th>\n",
       "      <th>y</th>\n",
       "    </tr>\n",
       "  </thead>\n",
       "  <tbody>\n",
       "    <tr>\n",
       "      <th>0</th>\n",
       "      <td>56</td>\n",
       "      <td>housemaid</td>\n",
       "      <td>married</td>\n",
       "      <td>basic.4y</td>\n",
       "      <td>no</td>\n",
       "      <td>no</td>\n",
       "      <td>no</td>\n",
       "      <td>telephone</td>\n",
       "      <td>may</td>\n",
       "      <td>mon</td>\n",
       "      <td>...</td>\n",
       "      <td>1</td>\n",
       "      <td>999</td>\n",
       "      <td>0</td>\n",
       "      <td>nonexistent</td>\n",
       "      <td>1.1</td>\n",
       "      <td>93.994</td>\n",
       "      <td>-36.4</td>\n",
       "      <td>4.857</td>\n",
       "      <td>5191.0</td>\n",
       "      <td>no</td>\n",
       "    </tr>\n",
       "    <tr>\n",
       "      <th>1</th>\n",
       "      <td>57</td>\n",
       "      <td>services</td>\n",
       "      <td>married</td>\n",
       "      <td>high.school</td>\n",
       "      <td>unknown</td>\n",
       "      <td>no</td>\n",
       "      <td>no</td>\n",
       "      <td>telephone</td>\n",
       "      <td>may</td>\n",
       "      <td>mon</td>\n",
       "      <td>...</td>\n",
       "      <td>1</td>\n",
       "      <td>999</td>\n",
       "      <td>0</td>\n",
       "      <td>nonexistent</td>\n",
       "      <td>1.1</td>\n",
       "      <td>93.994</td>\n",
       "      <td>-36.4</td>\n",
       "      <td>4.857</td>\n",
       "      <td>5191.0</td>\n",
       "      <td>no</td>\n",
       "    </tr>\n",
       "    <tr>\n",
       "      <th>2</th>\n",
       "      <td>37</td>\n",
       "      <td>services</td>\n",
       "      <td>married</td>\n",
       "      <td>high.school</td>\n",
       "      <td>no</td>\n",
       "      <td>yes</td>\n",
       "      <td>no</td>\n",
       "      <td>telephone</td>\n",
       "      <td>may</td>\n",
       "      <td>mon</td>\n",
       "      <td>...</td>\n",
       "      <td>1</td>\n",
       "      <td>999</td>\n",
       "      <td>0</td>\n",
       "      <td>nonexistent</td>\n",
       "      <td>1.1</td>\n",
       "      <td>93.994</td>\n",
       "      <td>-36.4</td>\n",
       "      <td>4.857</td>\n",
       "      <td>5191.0</td>\n",
       "      <td>no</td>\n",
       "    </tr>\n",
       "    <tr>\n",
       "      <th>3</th>\n",
       "      <td>40</td>\n",
       "      <td>admin.</td>\n",
       "      <td>married</td>\n",
       "      <td>basic.6y</td>\n",
       "      <td>no</td>\n",
       "      <td>no</td>\n",
       "      <td>no</td>\n",
       "      <td>telephone</td>\n",
       "      <td>may</td>\n",
       "      <td>mon</td>\n",
       "      <td>...</td>\n",
       "      <td>1</td>\n",
       "      <td>999</td>\n",
       "      <td>0</td>\n",
       "      <td>nonexistent</td>\n",
       "      <td>1.1</td>\n",
       "      <td>93.994</td>\n",
       "      <td>-36.4</td>\n",
       "      <td>4.857</td>\n",
       "      <td>5191.0</td>\n",
       "      <td>no</td>\n",
       "    </tr>\n",
       "    <tr>\n",
       "      <th>4</th>\n",
       "      <td>56</td>\n",
       "      <td>services</td>\n",
       "      <td>married</td>\n",
       "      <td>high.school</td>\n",
       "      <td>no</td>\n",
       "      <td>no</td>\n",
       "      <td>yes</td>\n",
       "      <td>telephone</td>\n",
       "      <td>may</td>\n",
       "      <td>mon</td>\n",
       "      <td>...</td>\n",
       "      <td>1</td>\n",
       "      <td>999</td>\n",
       "      <td>0</td>\n",
       "      <td>nonexistent</td>\n",
       "      <td>1.1</td>\n",
       "      <td>93.994</td>\n",
       "      <td>-36.4</td>\n",
       "      <td>4.857</td>\n",
       "      <td>5191.0</td>\n",
       "      <td>no</td>\n",
       "    </tr>\n",
       "  </tbody>\n",
       "</table>\n",
       "<p>5 rows × 21 columns</p>\n",
       "</div>"
      ],
      "text/plain": [
       "   age        job  marital    education  default housing loan    contact  \\\n",
       "0   56  housemaid  married     basic.4y       no      no   no  telephone   \n",
       "1   57   services  married  high.school  unknown      no   no  telephone   \n",
       "2   37   services  married  high.school       no     yes   no  telephone   \n",
       "3   40     admin.  married     basic.6y       no      no   no  telephone   \n",
       "4   56   services  married  high.school       no      no  yes  telephone   \n",
       "\n",
       "  month day_of_week  ...  campaign  pdays  previous     poutcome emp.var.rate  \\\n",
       "0   may         mon  ...         1    999         0  nonexistent          1.1   \n",
       "1   may         mon  ...         1    999         0  nonexistent          1.1   \n",
       "2   may         mon  ...         1    999         0  nonexistent          1.1   \n",
       "3   may         mon  ...         1    999         0  nonexistent          1.1   \n",
       "4   may         mon  ...         1    999         0  nonexistent          1.1   \n",
       "\n",
       "   cons.price.idx  cons.conf.idx  euribor3m  nr.employed   y  \n",
       "0          93.994          -36.4      4.857       5191.0  no  \n",
       "1          93.994          -36.4      4.857       5191.0  no  \n",
       "2          93.994          -36.4      4.857       5191.0  no  \n",
       "3          93.994          -36.4      4.857       5191.0  no  \n",
       "4          93.994          -36.4      4.857       5191.0  no  \n",
       "\n",
       "[5 rows x 21 columns]"
      ]
     },
     "execution_count": 30,
     "metadata": {},
     "output_type": "execute_result"
    }
   ],
   "source": [
    "# visualizando as 5 primeiras observações do novo objeto\n",
    "df_pandas.head()"
   ]
  },
  {
   "cell_type": "code",
   "execution_count": 31,
   "id": "cfd7f3c6-6c2b-4135-b637-51097ec687b6",
   "metadata": {},
   "outputs": [
    {
     "data": {
      "text/plain": [
       "array(['nonexistent', 'failure', 'success'], dtype=object)"
      ]
     },
     "execution_count": 31,
     "metadata": {},
     "output_type": "execute_result"
    }
   ],
   "source": [
    "# visualizando os dados únicos presente no atributo \"poutcome\"\n",
    "df_pandas['poutcome'].unique()"
   ]
  },
  {
   "cell_type": "code",
   "execution_count": 32,
   "id": "fe0d71d4-e70e-443f-95c4-b843a16ee1a8",
   "metadata": {},
   "outputs": [
    {
     "data": {
      "text/plain": [
       "poutcome\n",
       "nonexistent    35563\n",
       "failure         4252\n",
       "success         1373\n",
       "Name: count, dtype: int64"
      ]
     },
     "execution_count": 32,
     "metadata": {},
     "output_type": "execute_result"
    }
   ],
   "source": [
    "# contabilizando os valores em cada valor único presente no atributo \"poutcome\"\n",
    "df_pandas['poutcome'].value_counts()"
   ]
  },
  {
   "cell_type": "code",
   "execution_count": 33,
   "id": "86c692ed-2d88-40ee-ba2b-f531d0c53a46",
   "metadata": {},
   "outputs": [
    {
     "name": "stdout",
     "output_type": "stream",
     "text": [
      "<class 'pandas.core.frame.DataFrame'>\n",
      "RangeIndex: 41188 entries, 0 to 41187\n",
      "Data columns (total 21 columns):\n",
      " #   Column          Non-Null Count  Dtype  \n",
      "---  ------          --------------  -----  \n",
      " 0   age             41188 non-null  int32  \n",
      " 1   job             41188 non-null  object \n",
      " 2   marital         41188 non-null  object \n",
      " 3   education       41188 non-null  object \n",
      " 4   default         41188 non-null  object \n",
      " 5   housing         41188 non-null  object \n",
      " 6   loan            41188 non-null  object \n",
      " 7   contact         41188 non-null  object \n",
      " 8   month           41188 non-null  object \n",
      " 9   day_of_week     41188 non-null  object \n",
      " 10  duration        41188 non-null  int32  \n",
      " 11  campaign        41188 non-null  int32  \n",
      " 12  pdays           41188 non-null  int32  \n",
      " 13  previous        41188 non-null  int32  \n",
      " 14  poutcome        41188 non-null  object \n",
      " 15  emp.var.rate    41188 non-null  float64\n",
      " 16  cons.price.idx  41188 non-null  float64\n",
      " 17  cons.conf.idx   41188 non-null  float64\n",
      " 18  euribor3m       41188 non-null  float64\n",
      " 19  nr.employed     41188 non-null  float64\n",
      " 20  y               41188 non-null  object \n",
      "dtypes: float64(5), int32(5), object(11)\n",
      "memory usage: 5.8+ MB\n"
     ]
    }
   ],
   "source": [
    "# informações gerais\n",
    "df_pandas.info()"
   ]
  },
  {
   "cell_type": "code",
   "execution_count": 34,
   "id": "7ea9dbfe-e048-45d1-946d-a9a20a241473",
   "metadata": {},
   "outputs": [
    {
     "data": {
      "text/html": [
       "<div>\n",
       "<style scoped>\n",
       "    .dataframe tbody tr th:only-of-type {\n",
       "        vertical-align: middle;\n",
       "    }\n",
       "\n",
       "    .dataframe tbody tr th {\n",
       "        vertical-align: top;\n",
       "    }\n",
       "\n",
       "    .dataframe thead th {\n",
       "        text-align: right;\n",
       "    }\n",
       "</style>\n",
       "<table border=\"1\" class=\"dataframe\">\n",
       "  <thead>\n",
       "    <tr style=\"text-align: right;\">\n",
       "      <th></th>\n",
       "      <th>count</th>\n",
       "      <th>mean</th>\n",
       "      <th>std</th>\n",
       "      <th>min</th>\n",
       "      <th>25%</th>\n",
       "      <th>50%</th>\n",
       "      <th>75%</th>\n",
       "      <th>max</th>\n",
       "    </tr>\n",
       "  </thead>\n",
       "  <tbody>\n",
       "    <tr>\n",
       "      <th>age</th>\n",
       "      <td>41188.0</td>\n",
       "      <td>40.024060</td>\n",
       "      <td>10.421250</td>\n",
       "      <td>17.000</td>\n",
       "      <td>32.000</td>\n",
       "      <td>38.000</td>\n",
       "      <td>47.000</td>\n",
       "      <td>98.000</td>\n",
       "    </tr>\n",
       "    <tr>\n",
       "      <th>duration</th>\n",
       "      <td>41188.0</td>\n",
       "      <td>258.285010</td>\n",
       "      <td>259.279249</td>\n",
       "      <td>0.000</td>\n",
       "      <td>102.000</td>\n",
       "      <td>180.000</td>\n",
       "      <td>319.000</td>\n",
       "      <td>4918.000</td>\n",
       "    </tr>\n",
       "    <tr>\n",
       "      <th>campaign</th>\n",
       "      <td>41188.0</td>\n",
       "      <td>2.567593</td>\n",
       "      <td>2.770014</td>\n",
       "      <td>1.000</td>\n",
       "      <td>1.000</td>\n",
       "      <td>2.000</td>\n",
       "      <td>3.000</td>\n",
       "      <td>56.000</td>\n",
       "    </tr>\n",
       "    <tr>\n",
       "      <th>pdays</th>\n",
       "      <td>41188.0</td>\n",
       "      <td>962.475454</td>\n",
       "      <td>186.910907</td>\n",
       "      <td>0.000</td>\n",
       "      <td>999.000</td>\n",
       "      <td>999.000</td>\n",
       "      <td>999.000</td>\n",
       "      <td>999.000</td>\n",
       "    </tr>\n",
       "    <tr>\n",
       "      <th>previous</th>\n",
       "      <td>41188.0</td>\n",
       "      <td>0.172963</td>\n",
       "      <td>0.494901</td>\n",
       "      <td>0.000</td>\n",
       "      <td>0.000</td>\n",
       "      <td>0.000</td>\n",
       "      <td>0.000</td>\n",
       "      <td>7.000</td>\n",
       "    </tr>\n",
       "    <tr>\n",
       "      <th>emp.var.rate</th>\n",
       "      <td>41188.0</td>\n",
       "      <td>0.081886</td>\n",
       "      <td>1.570960</td>\n",
       "      <td>-3.400</td>\n",
       "      <td>-1.800</td>\n",
       "      <td>1.100</td>\n",
       "      <td>1.400</td>\n",
       "      <td>1.400</td>\n",
       "    </tr>\n",
       "    <tr>\n",
       "      <th>cons.price.idx</th>\n",
       "      <td>41188.0</td>\n",
       "      <td>93.575664</td>\n",
       "      <td>0.578840</td>\n",
       "      <td>92.201</td>\n",
       "      <td>93.075</td>\n",
       "      <td>93.749</td>\n",
       "      <td>93.994</td>\n",
       "      <td>94.767</td>\n",
       "    </tr>\n",
       "    <tr>\n",
       "      <th>cons.conf.idx</th>\n",
       "      <td>41188.0</td>\n",
       "      <td>-40.502600</td>\n",
       "      <td>4.628198</td>\n",
       "      <td>-50.800</td>\n",
       "      <td>-42.700</td>\n",
       "      <td>-41.800</td>\n",
       "      <td>-36.400</td>\n",
       "      <td>-26.900</td>\n",
       "    </tr>\n",
       "    <tr>\n",
       "      <th>euribor3m</th>\n",
       "      <td>41188.0</td>\n",
       "      <td>3.621291</td>\n",
       "      <td>1.734447</td>\n",
       "      <td>0.634</td>\n",
       "      <td>1.344</td>\n",
       "      <td>4.857</td>\n",
       "      <td>4.961</td>\n",
       "      <td>5.045</td>\n",
       "    </tr>\n",
       "    <tr>\n",
       "      <th>nr.employed</th>\n",
       "      <td>41188.0</td>\n",
       "      <td>5167.035911</td>\n",
       "      <td>72.251528</td>\n",
       "      <td>4963.600</td>\n",
       "      <td>5099.100</td>\n",
       "      <td>5191.000</td>\n",
       "      <td>5228.100</td>\n",
       "      <td>5228.100</td>\n",
       "    </tr>\n",
       "  </tbody>\n",
       "</table>\n",
       "</div>"
      ],
      "text/plain": [
       "                  count         mean         std       min       25%  \\\n",
       "age             41188.0    40.024060   10.421250    17.000    32.000   \n",
       "duration        41188.0   258.285010  259.279249     0.000   102.000   \n",
       "campaign        41188.0     2.567593    2.770014     1.000     1.000   \n",
       "pdays           41188.0   962.475454  186.910907     0.000   999.000   \n",
       "previous        41188.0     0.172963    0.494901     0.000     0.000   \n",
       "emp.var.rate    41188.0     0.081886    1.570960    -3.400    -1.800   \n",
       "cons.price.idx  41188.0    93.575664    0.578840    92.201    93.075   \n",
       "cons.conf.idx   41188.0   -40.502600    4.628198   -50.800   -42.700   \n",
       "euribor3m       41188.0     3.621291    1.734447     0.634     1.344   \n",
       "nr.employed     41188.0  5167.035911   72.251528  4963.600  5099.100   \n",
       "\n",
       "                     50%       75%       max  \n",
       "age               38.000    47.000    98.000  \n",
       "duration         180.000   319.000  4918.000  \n",
       "campaign           2.000     3.000    56.000  \n",
       "pdays            999.000   999.000   999.000  \n",
       "previous           0.000     0.000     7.000  \n",
       "emp.var.rate       1.100     1.400     1.400  \n",
       "cons.price.idx    93.749    93.994    94.767  \n",
       "cons.conf.idx    -41.800   -36.400   -26.900  \n",
       "euribor3m          4.857     4.961     5.045  \n",
       "nr.employed     5191.000  5228.100  5228.100  "
      ]
     },
     "execution_count": 34,
     "metadata": {},
     "output_type": "execute_result"
    }
   ],
   "source": [
    "# estatística descritiva\n",
    "df_pandas.describe().T"
   ]
  },
  {
   "cell_type": "code",
   "execution_count": 35,
   "id": "71fb5edc-f118-4527-9ab7-763137888373",
   "metadata": {},
   "outputs": [],
   "source": [
    "# importando a biblioteca e módulo/função para visualização gráfica\n",
    "import matplotlib.pyplot as plt\n",
    "from pylab import rcParams\n",
    "\n",
    "# setando alguns parâmetros de visualização\n",
    "plt.style.use('ggplot')\n",
    "rcParams['figure.figsize'] = (8, 3)\n",
    "%matplotlib inline"
   ]
  },
  {
   "cell_type": "code",
   "execution_count": 36,
   "id": "4a8934a7-a5a1-4551-beeb-0db7e7d75c10",
   "metadata": {},
   "outputs": [
    {
     "data": {
      "image/png": "[encoded data removed]",
      "text/plain": [
       "<Figure size 800x300 with 1 Axes>"
      ]
     },
     "metadata": {},
     "output_type": "display_data"
    }
   ],
   "source": [
    "# plotando o gráfico de barras\n",
    "plt.bar(job_count2['job'], job_count2['count'], \n",
    "        color='blue', alpha=0.7)\n",
    "\n",
    "plt.xlabel('\\njob')\n",
    "plt.ylabel('numbers of people\\n')\n",
    "plt.xticks(rotation=45)\n",
    "plt.title('Numbers of people per job\\n', size=16)\n",
    "plt.show()"
   ]
  },
  {
   "cell_type": "code",
   "execution_count": 37,
   "id": "5af18a5e-0fc0-4941-a631-7a466021934d",
   "metadata": {},
   "outputs": [],
   "source": [
    "# importando a função da biblioteca \"yellowbrick\" para visualizar a distribuição dos valores presente em um atributo\n",
    "from yellowbrick.target import ClassBalance"
   ]
  },
  {
   "cell_type": "code",
   "execution_count": 38,
   "id": "69f3fb00-b0d2-499d-a331-9404a8d8483e",
   "metadata": {},
   "outputs": [],
   "source": [
    "# realizando a seleção do atributo e transformando em um objeto do tipo Pandas\n",
    "class_data = df.select('poutcome').toPandas()['poutcome']"
   ]
  },
  {
   "cell_type": "code",
   "execution_count": 39,
   "id": "b7fa48d5-148b-47ea-9fe5-ad5bc985bf87",
   "metadata": {},
   "outputs": [
    {
     "data": {
      "text/plain": [
       "41173        failure\n",
       "41174        success\n",
       "41175        failure\n",
       "41176    nonexistent\n",
       "41177    nonexistent\n",
       "41178        success\n",
       "41179    nonexistent\n",
       "41180    nonexistent\n",
       "41181    nonexistent\n",
       "41182        success\n",
       "41183    nonexistent\n",
       "41184    nonexistent\n",
       "41185    nonexistent\n",
       "41186    nonexistent\n",
       "41187        failure\n",
       "Name: poutcome, dtype: object"
      ]
     },
     "execution_count": 39,
     "metadata": {},
     "output_type": "execute_result"
    }
   ],
   "source": [
    "# visualizando as 15 últimas observações do objeto\n",
    "class_data.tail(n=15)"
   ]
  },
  {
   "cell_type": "code",
   "execution_count": 40,
   "id": "0619c50d-8e3f-473e-8d18-21aeb275357e",
   "metadata": {},
   "outputs": [
    {
     "name": "stdout",
     "output_type": "stream",
     "text": [
      "['nonexistent' 'failure' 'success']\n",
      "\n"
     ]
    },
    {
     "data": {
      "text/plain": [
       "poutcome\n",
       "nonexistent    35563\n",
       "failure         4252\n",
       "success         1373\n",
       "Name: count, dtype: int64"
      ]
     },
     "execution_count": 40,
     "metadata": {},
     "output_type": "execute_result"
    }
   ],
   "source": [
    "print(class_data.unique(), end='\\n\\n')\n",
    "class_data.value_counts()"
   ]
  },
  {
   "cell_type": "code",
   "execution_count": 42,
   "id": "e95aafae-bb71-4dc8-b0ed-8f7e95f93a81",
   "metadata": {},
   "outputs": [
    {
     "data": {
      "image/png": "[encoded data removed]",
      "text/plain": [
       "<Figure size 800x550 with 1 Axes>"
      ]
     },
     "metadata": {},
     "output_type": "display_data"
    }
   ],
   "source": [
    "# contabilizando a distribuição dos dados presente na \n",
    "viz = ClassBalance(labels=['nonexistent', 'failure', 'success'])\n",
    "\n",
    "viz.fit(class_data)\n",
    "viz.show();"
   ]
  },
  {
   "cell_type": "code",
   "execution_count": 43,
   "id": "9ca929d8-b82b-4290-b5d9-725833c6c49a",
   "metadata": {},
   "outputs": [],
   "source": [
    "# aplicando filtro no atributo \"poutcome\" e selecionado somente dados diferente de \"nonexistent\"\n",
    "df =  df.filter('poutcome != \"nonexistent\"')"
   ]
  },
  {
   "cell_type": "code",
   "execution_count": 44,
   "id": "227adc3a-b555-403e-8c24-aa75dc932beb",
   "metadata": {},
   "outputs": [
    {
     "data": {
      "text/html": [
       "<div>\n",
       "<style scoped>\n",
       "    .dataframe tbody tr th:only-of-type {\n",
       "        vertical-align: middle;\n",
       "    }\n",
       "\n",
       "    .dataframe tbody tr th {\n",
       "        vertical-align: top;\n",
       "    }\n",
       "\n",
       "    .dataframe thead th {\n",
       "        text-align: right;\n",
       "    }\n",
       "</style>\n",
       "<table border=\"1\" class=\"dataframe\">\n",
       "  <thead>\n",
       "    <tr style=\"text-align: right;\">\n",
       "      <th></th>\n",
       "      <th>age</th>\n",
       "      <th>job</th>\n",
       "      <th>marital</th>\n",
       "      <th>education</th>\n",
       "      <th>default</th>\n",
       "      <th>housing</th>\n",
       "      <th>loan</th>\n",
       "      <th>contact</th>\n",
       "      <th>month</th>\n",
       "      <th>day_of_week</th>\n",
       "      <th>...</th>\n",
       "      <th>campaign</th>\n",
       "      <th>pdays</th>\n",
       "      <th>previous</th>\n",
       "      <th>poutcome</th>\n",
       "      <th>emp.var.rate</th>\n",
       "      <th>cons.price.idx</th>\n",
       "      <th>cons.conf.idx</th>\n",
       "      <th>euribor3m</th>\n",
       "      <th>nr.employed</th>\n",
       "      <th>y</th>\n",
       "    </tr>\n",
       "  </thead>\n",
       "  <tbody>\n",
       "    <tr>\n",
       "      <th>0</th>\n",
       "      <td>38</td>\n",
       "      <td>blue-collar</td>\n",
       "      <td>single</td>\n",
       "      <td>unknown</td>\n",
       "      <td>no</td>\n",
       "      <td>yes</td>\n",
       "      <td>no</td>\n",
       "      <td>telephone</td>\n",
       "      <td>oct</td>\n",
       "      <td>tue</td>\n",
       "      <td>...</td>\n",
       "      <td>1</td>\n",
       "      <td>999</td>\n",
       "      <td>1</td>\n",
       "      <td>failure</td>\n",
       "      <td>-0.1</td>\n",
       "      <td>93.798</td>\n",
       "      <td>-40.4</td>\n",
       "      <td>4.968</td>\n",
       "      <td>5195.8</td>\n",
       "      <td>no</td>\n",
       "    </tr>\n",
       "    <tr>\n",
       "      <th>1</th>\n",
       "      <td>40</td>\n",
       "      <td>services</td>\n",
       "      <td>married</td>\n",
       "      <td>high.school</td>\n",
       "      <td>no</td>\n",
       "      <td>yes</td>\n",
       "      <td>no</td>\n",
       "      <td>telephone</td>\n",
       "      <td>oct</td>\n",
       "      <td>tue</td>\n",
       "      <td>...</td>\n",
       "      <td>1</td>\n",
       "      <td>999</td>\n",
       "      <td>1</td>\n",
       "      <td>failure</td>\n",
       "      <td>-0.1</td>\n",
       "      <td>93.798</td>\n",
       "      <td>-40.4</td>\n",
       "      <td>4.968</td>\n",
       "      <td>5195.8</td>\n",
       "      <td>yes</td>\n",
       "    </tr>\n",
       "    <tr>\n",
       "      <th>2</th>\n",
       "      <td>36</td>\n",
       "      <td>admin.</td>\n",
       "      <td>married</td>\n",
       "      <td>university.degree</td>\n",
       "      <td>no</td>\n",
       "      <td>yes</td>\n",
       "      <td>no</td>\n",
       "      <td>telephone</td>\n",
       "      <td>nov</td>\n",
       "      <td>wed</td>\n",
       "      <td>...</td>\n",
       "      <td>1</td>\n",
       "      <td>999</td>\n",
       "      <td>1</td>\n",
       "      <td>failure</td>\n",
       "      <td>-0.1</td>\n",
       "      <td>93.200</td>\n",
       "      <td>-42.0</td>\n",
       "      <td>4.663</td>\n",
       "      <td>5195.8</td>\n",
       "      <td>no</td>\n",
       "    </tr>\n",
       "    <tr>\n",
       "      <th>3</th>\n",
       "      <td>36</td>\n",
       "      <td>admin.</td>\n",
       "      <td>married</td>\n",
       "      <td>high.school</td>\n",
       "      <td>no</td>\n",
       "      <td>yes</td>\n",
       "      <td>no</td>\n",
       "      <td>telephone</td>\n",
       "      <td>nov</td>\n",
       "      <td>wed</td>\n",
       "      <td>...</td>\n",
       "      <td>1</td>\n",
       "      <td>999</td>\n",
       "      <td>1</td>\n",
       "      <td>failure</td>\n",
       "      <td>-0.1</td>\n",
       "      <td>93.200</td>\n",
       "      <td>-42.0</td>\n",
       "      <td>4.286</td>\n",
       "      <td>5195.8</td>\n",
       "      <td>yes</td>\n",
       "    </tr>\n",
       "    <tr>\n",
       "      <th>4</th>\n",
       "      <td>37</td>\n",
       "      <td>admin.</td>\n",
       "      <td>married</td>\n",
       "      <td>university.degree</td>\n",
       "      <td>no</td>\n",
       "      <td>yes</td>\n",
       "      <td>no</td>\n",
       "      <td>telephone</td>\n",
       "      <td>nov</td>\n",
       "      <td>wed</td>\n",
       "      <td>...</td>\n",
       "      <td>1</td>\n",
       "      <td>6</td>\n",
       "      <td>1</td>\n",
       "      <td>success</td>\n",
       "      <td>-0.1</td>\n",
       "      <td>93.200</td>\n",
       "      <td>-42.0</td>\n",
       "      <td>4.286</td>\n",
       "      <td>5195.8</td>\n",
       "      <td>no</td>\n",
       "    </tr>\n",
       "  </tbody>\n",
       "</table>\n",
       "<p>5 rows × 21 columns</p>\n",
       "</div>"
      ],
      "text/plain": [
       "   age          job  marital          education default housing loan  \\\n",
       "0   38  blue-collar   single            unknown      no     yes   no   \n",
       "1   40     services  married        high.school      no     yes   no   \n",
       "2   36       admin.  married  university.degree      no     yes   no   \n",
       "3   36       admin.  married        high.school      no     yes   no   \n",
       "4   37       admin.  married  university.degree      no     yes   no   \n",
       "\n",
       "     contact month day_of_week  ...  campaign  pdays  previous  poutcome  \\\n",
       "0  telephone   oct         tue  ...         1    999         1   failure   \n",
       "1  telephone   oct         tue  ...         1    999         1   failure   \n",
       "2  telephone   nov         wed  ...         1    999         1   failure   \n",
       "3  telephone   nov         wed  ...         1    999         1   failure   \n",
       "4  telephone   nov         wed  ...         1      6         1   success   \n",
       "\n",
       "  emp.var.rate  cons.price.idx  cons.conf.idx  euribor3m  nr.employed    y  \n",
       "0         -0.1          93.798          -40.4      4.968       5195.8   no  \n",
       "1         -0.1          93.798          -40.4      4.968       5195.8  yes  \n",
       "2         -0.1          93.200          -42.0      4.663       5195.8   no  \n",
       "3         -0.1          93.200          -42.0      4.286       5195.8  yes  \n",
       "4         -0.1          93.200          -42.0      4.286       5195.8   no  \n",
       "\n",
       "[5 rows x 21 columns]"
      ]
     },
     "execution_count": 44,
     "metadata": {},
     "output_type": "execute_result"
    }
   ],
   "source": [
    "# visualizando o resultado do filtro acima\n",
    "df.toPandas().head()"
   ]
  },
  {
   "cell_type": "code",
   "execution_count": 45,
   "id": "e93128bb-0789-42aa-b6b2-03bca9d21181",
   "metadata": {},
   "outputs": [
    {
     "name": "stdout",
     "output_type": "stream",
     "text": [
      "+--------+-----+\n",
      "|poutcome|count|\n",
      "+--------+-----+\n",
      "| success| 1373|\n",
      "| failure| 4252|\n",
      "+--------+-----+\n",
      "\n"
     ]
    }
   ],
   "source": [
    "# agrupando os dados do atributo \"poutcome\", contabilizando e exibindo o resultado \n",
    "df.groupBy('poutcome').count().show()"
   ]
  },
  {
   "cell_type": "code",
   "execution_count": 46,
   "id": "5c06a3d6-b01c-441f-a4d1-42289f76661c",
   "metadata": {},
   "outputs": [
    {
     "data": {
      "text/plain": [
       "(5625, 21)"
      ]
     },
     "execution_count": 46,
     "metadata": {},
     "output_type": "execute_result"
    }
   ],
   "source": [
    "# dimensão do conjunt de dados - linhas e colunas\n",
    "dataframe_dim(df)"
   ]
  },
  {
   "cell_type": "code",
   "execution_count": 47,
   "id": "44d285d7-7377-4f79-ae59-b8b1bcef84d6",
   "metadata": {},
   "outputs": [
    {
     "data": {
      "text/plain": [
       "['age',\n",
       " 'job',\n",
       " 'marital',\n",
       " 'education',\n",
       " 'default',\n",
       " 'housing',\n",
       " 'loan',\n",
       " 'contact',\n",
       " 'month',\n",
       " 'day_of_week',\n",
       " 'duration',\n",
       " 'campaign',\n",
       " 'pdays',\n",
       " 'previous',\n",
       " 'poutcome',\n",
       " 'emp.var.rate',\n",
       " 'cons.price.idx',\n",
       " 'cons.conf.idx',\n",
       " 'euribor3m',\n",
       " 'nr.employed',\n",
       " 'y']"
      ]
     },
     "execution_count": 47,
     "metadata": {},
     "output_type": "execute_result"
    }
   ],
   "source": [
    "# nome dos atributos\n",
    "df.columns"
   ]
  },
  {
   "cell_type": "code",
   "execution_count": 48,
   "id": "95043863-6062-43b1-abc4-ad788c52ceef",
   "metadata": {},
   "outputs": [],
   "source": [
    "# selecionando os atributos de entrada\n",
    "df2 = df.select(\n",
    "    'age',\n",
    "    'job',\n",
    "    'marital',\n",
    "    'education',\n",
    "    'default',\n",
    "    'housing',\n",
    "    'loan',\n",
    "    'contact',\n",
    "    'month',\n",
    "    'day_of_week',\n",
    "    'duration',\n",
    "    'campaign',\n",
    "    'pdays',\n",
    "    'previous',\n",
    "    'poutcome'\n",
    ")"
   ]
  },
  {
   "cell_type": "code",
   "execution_count": 49,
   "id": "f190886a-19c7-4c8d-a1d5-e4d55da63845",
   "metadata": {},
   "outputs": [
    {
     "name": "stdout",
     "output_type": "stream",
     "text": [
      "+---+-------------+--------+-------------------+-------+-------+----+---------+-----+-----------+--------+--------+-----+--------+--------+\n",
      "|age|          job| marital|          education|default|housing|loan|  contact|month|day_of_week|duration|campaign|pdays|previous|poutcome|\n",
      "+---+-------------+--------+-------------------+-------+-------+----+---------+-----+-----------+--------+--------+-----+--------+--------+\n",
      "| 38|  blue-collar|  single|            unknown|     no|    yes|  no|telephone|  oct|        tue|      39|       1|  999|       1| failure|\n",
      "| 40|     services| married|        high.school|     no|    yes|  no|telephone|  oct|        tue|     144|       1|  999|       1| failure|\n",
      "| 36|       admin.| married|  university.degree|     no|    yes|  no|telephone|  nov|        wed|     449|       1|  999|       1| failure|\n",
      "| 36|       admin.| married|        high.school|     no|    yes|  no|telephone|  nov|        wed|     114|       1|  999|       1| failure|\n",
      "| 37|       admin.| married|  university.degree|     no|    yes|  no|telephone|  nov|        wed|     119|       1|    6|       1| success|\n",
      "| 29|self-employed| married|  university.degree|     no|    yes|  no|telephone|  nov|        thu|      86|       1|  999|       1| failure|\n",
      "| 42|   technician|divorced|professional.course|     no|     no|  no| cellular|  nov|        mon|     200|       1|  999|       1| failure|\n",
      "| 34|       admin.|  single|        high.school|     no|     no|  no| cellular|  nov|        mon|     303|       1|  999|       1| failure|\n",
      "| 44|   management| married|  university.degree|     no|    yes|  no| cellular|  nov|        mon|     130|       1|  999|       1| failure|\n",
      "| 51|   technician| married|            unknown|     no|     no|  no| cellular|  nov|        mon|     324|       1|  999|       1| failure|\n",
      "+---+-------------+--------+-------------------+-------+-------+----+---------+-----+-----------+--------+--------+-----+--------+--------+\n",
      "only showing top 10 rows\n",
      "\n"
     ]
    }
   ],
   "source": [
    "# visualizando as 10 primeiras observações\n",
    "df2.show(n=10)"
   ]
  },
  {
   "cell_type": "code",
   "execution_count": 50,
   "id": "69766445-5b8f-4582-b48a-f762684cea8a",
   "metadata": {},
   "outputs": [],
   "source": [
    "# importando a função para aplicar tratamento nos dados categóricos\n",
    "from pyspark.ml.feature import StringIndexer"
   ]
  },
  {
   "cell_type": "code",
   "execution_count": 51,
   "id": "96b63ba3-3860-4d8c-b3e4-25b6e96fb13f",
   "metadata": {},
   "outputs": [],
   "source": [
    "# instanciando os atributos de entrada e sua saída após o tratamento dos atributos categóricos\n",
    "indexer = StringIndexer(\n",
    "    inputCols=[\n",
    "        'job', 'marital', 'education', 'default', \n",
    "        'housing', 'loan', 'contact', 'month', \n",
    "        'day_of_week', \n",
    "        'poutcome'\n",
    "    ],\n",
    "    outputCols=[\n",
    "        'job_cat', 'marital_cat', 'education_cat', 'default_cat', \n",
    "        'housing_cat', 'loan_cat', 'contact_cat', 'month_cat', \n",
    "        'day_of_week_cat', \n",
    "        'poutcome_cat'\n",
    "    ]\n",
    ")"
   ]
  },
  {
   "cell_type": "code",
   "execution_count": 52,
   "id": "ab92cf5b-4ba0-4672-93ab-91f351416078",
   "metadata": {},
   "outputs": [
    {
     "name": "stderr",
     "output_type": "stream",
     "text": [
      "                                                                                \r"
     ]
    }
   ],
   "source": [
    "# aplicando o tratamento nos dados categóricos\n",
    "indexed = indexer.fit(df2).transform(df2)"
   ]
  },
  {
   "cell_type": "code",
   "execution_count": 53,
   "id": "23eeaf83-d623-441b-bd2e-f97702672f24",
   "metadata": {},
   "outputs": [
    {
     "data": {
      "text/plain": [
       "['age',\n",
       " 'job',\n",
       " 'marital',\n",
       " 'education',\n",
       " 'default',\n",
       " 'housing',\n",
       " 'loan',\n",
       " 'contact',\n",
       " 'month',\n",
       " 'day_of_week',\n",
       " 'duration',\n",
       " 'campaign',\n",
       " 'pdays',\n",
       " 'previous',\n",
       " 'poutcome',\n",
       " 'job_cat',\n",
       " 'marital_cat',\n",
       " 'education_cat',\n",
       " 'default_cat',\n",
       " 'housing_cat',\n",
       " 'loan_cat',\n",
       " 'contact_cat',\n",
       " 'month_cat',\n",
       " 'day_of_week_cat',\n",
       " 'poutcome_cat']"
      ]
     },
     "execution_count": 53,
     "metadata": {},
     "output_type": "execute_result"
    }
   ],
   "source": [
    "# visualizando os atributos presente no objeto \"indexed\" após o tratamento dos dados categóricos\n",
    "indexed.columns"
   ]
  },
  {
   "cell_type": "code",
   "execution_count": 54,
   "id": "a5e8817f-5679-4273-a313-1202d9fe227f",
   "metadata": {},
   "outputs": [
    {
     "name": "stdout",
     "output_type": "stream",
     "text": [
      "root\n",
      " |-- age: integer (nullable = true)\n",
      " |-- job: string (nullable = true)\n",
      " |-- marital: string (nullable = true)\n",
      " |-- education: string (nullable = true)\n",
      " |-- default: string (nullable = true)\n",
      " |-- housing: string (nullable = true)\n",
      " |-- loan: string (nullable = true)\n",
      " |-- contact: string (nullable = true)\n",
      " |-- month: string (nullable = true)\n",
      " |-- day_of_week: string (nullable = true)\n",
      " |-- duration: integer (nullable = true)\n",
      " |-- campaign: integer (nullable = true)\n",
      " |-- pdays: integer (nullable = true)\n",
      " |-- previous: integer (nullable = true)\n",
      " |-- poutcome: string (nullable = true)\n",
      " |-- job_cat: double (nullable = false)\n",
      " |-- marital_cat: double (nullable = false)\n",
      " |-- education_cat: double (nullable = false)\n",
      " |-- default_cat: double (nullable = false)\n",
      " |-- housing_cat: double (nullable = false)\n",
      " |-- loan_cat: double (nullable = false)\n",
      " |-- contact_cat: double (nullable = false)\n",
      " |-- month_cat: double (nullable = false)\n",
      " |-- day_of_week_cat: double (nullable = false)\n",
      " |-- poutcome_cat: double (nullable = false)\n",
      "\n"
     ]
    }
   ],
   "source": [
    "# visualizando o esquema do objeto\n",
    "indexed.printSchema()"
   ]
  },
  {
   "cell_type": "code",
   "execution_count": 55,
   "id": "92832ce0-e36e-4ef8-92e9-5ff6cfed5281",
   "metadata": {},
   "outputs": [],
   "source": [
    "# aplicando a seleção somente dos atributos numéricos\n",
    "df2 = indexed.select(\n",
    "    'age',\n",
    "    'duration',\n",
    "    'campaign',\n",
    "    'pdays',\n",
    "    'previous',\n",
    "    'job_cat',\n",
    "    'marital_cat',\n",
    "    'education_cat',\n",
    "    'default_cat',\n",
    "    'housing_cat',\n",
    "    'loan_cat',\n",
    "    'contact_cat',\n",
    "    'month_cat',\n",
    "    'day_of_week_cat',\n",
    "    'poutcome_cat'\n",
    ")"
   ]
  },
  {
   "cell_type": "code",
   "execution_count": 56,
   "id": "fc42b774-be01-4aa5-a1ec-3ca880dba88d",
   "metadata": {},
   "outputs": [
    {
     "data": {
      "text/html": [
       "<div>\n",
       "<style scoped>\n",
       "    .dataframe tbody tr th:only-of-type {\n",
       "        vertical-align: middle;\n",
       "    }\n",
       "\n",
       "    .dataframe tbody tr th {\n",
       "        vertical-align: top;\n",
       "    }\n",
       "\n",
       "    .dataframe thead th {\n",
       "        text-align: right;\n",
       "    }\n",
       "</style>\n",
       "<table border=\"1\" class=\"dataframe\">\n",
       "  <thead>\n",
       "    <tr style=\"text-align: right;\">\n",
       "      <th></th>\n",
       "      <th>age</th>\n",
       "      <th>duration</th>\n",
       "      <th>campaign</th>\n",
       "      <th>pdays</th>\n",
       "      <th>previous</th>\n",
       "      <th>job_cat</th>\n",
       "      <th>marital_cat</th>\n",
       "      <th>education_cat</th>\n",
       "      <th>default_cat</th>\n",
       "      <th>housing_cat</th>\n",
       "      <th>loan_cat</th>\n",
       "      <th>contact_cat</th>\n",
       "      <th>month_cat</th>\n",
       "      <th>day_of_week_cat</th>\n",
       "      <th>poutcome_cat</th>\n",
       "    </tr>\n",
       "  </thead>\n",
       "  <tbody>\n",
       "    <tr>\n",
       "      <th>0</th>\n",
       "      <td>38</td>\n",
       "      <td>39</td>\n",
       "      <td>1</td>\n",
       "      <td>999</td>\n",
       "      <td>1</td>\n",
       "      <td>1.0</td>\n",
       "      <td>1.0</td>\n",
       "      <td>5.0</td>\n",
       "      <td>0.0</td>\n",
       "      <td>0.0</td>\n",
       "      <td>0.0</td>\n",
       "      <td>1.0</td>\n",
       "      <td>5.0</td>\n",
       "      <td>3.0</td>\n",
       "      <td>0.0</td>\n",
       "    </tr>\n",
       "    <tr>\n",
       "      <th>1</th>\n",
       "      <td>40</td>\n",
       "      <td>144</td>\n",
       "      <td>1</td>\n",
       "      <td>999</td>\n",
       "      <td>1</td>\n",
       "      <td>3.0</td>\n",
       "      <td>0.0</td>\n",
       "      <td>1.0</td>\n",
       "      <td>0.0</td>\n",
       "      <td>0.0</td>\n",
       "      <td>0.0</td>\n",
       "      <td>1.0</td>\n",
       "      <td>5.0</td>\n",
       "      <td>3.0</td>\n",
       "      <td>0.0</td>\n",
       "    </tr>\n",
       "    <tr>\n",
       "      <th>2</th>\n",
       "      <td>36</td>\n",
       "      <td>449</td>\n",
       "      <td>1</td>\n",
       "      <td>999</td>\n",
       "      <td>1</td>\n",
       "      <td>0.0</td>\n",
       "      <td>0.0</td>\n",
       "      <td>0.0</td>\n",
       "      <td>0.0</td>\n",
       "      <td>0.0</td>\n",
       "      <td>0.0</td>\n",
       "      <td>1.0</td>\n",
       "      <td>1.0</td>\n",
       "      <td>4.0</td>\n",
       "      <td>0.0</td>\n",
       "    </tr>\n",
       "    <tr>\n",
       "      <th>3</th>\n",
       "      <td>36</td>\n",
       "      <td>114</td>\n",
       "      <td>1</td>\n",
       "      <td>999</td>\n",
       "      <td>1</td>\n",
       "      <td>0.0</td>\n",
       "      <td>0.0</td>\n",
       "      <td>1.0</td>\n",
       "      <td>0.0</td>\n",
       "      <td>0.0</td>\n",
       "      <td>0.0</td>\n",
       "      <td>1.0</td>\n",
       "      <td>1.0</td>\n",
       "      <td>4.0</td>\n",
       "      <td>0.0</td>\n",
       "    </tr>\n",
       "    <tr>\n",
       "      <th>4</th>\n",
       "      <td>37</td>\n",
       "      <td>119</td>\n",
       "      <td>1</td>\n",
       "      <td>6</td>\n",
       "      <td>1</td>\n",
       "      <td>0.0</td>\n",
       "      <td>0.0</td>\n",
       "      <td>0.0</td>\n",
       "      <td>0.0</td>\n",
       "      <td>0.0</td>\n",
       "      <td>0.0</td>\n",
       "      <td>1.0</td>\n",
       "      <td>1.0</td>\n",
       "      <td>4.0</td>\n",
       "      <td>1.0</td>\n",
       "    </tr>\n",
       "  </tbody>\n",
       "</table>\n",
       "</div>"
      ],
      "text/plain": [
       "   age  duration  campaign  pdays  previous  job_cat  marital_cat  \\\n",
       "0   38        39         1    999         1      1.0          1.0   \n",
       "1   40       144         1    999         1      3.0          0.0   \n",
       "2   36       449         1    999         1      0.0          0.0   \n",
       "3   36       114         1    999         1      0.0          0.0   \n",
       "4   37       119         1      6         1      0.0          0.0   \n",
       "\n",
       "   education_cat  default_cat  housing_cat  loan_cat  contact_cat  month_cat  \\\n",
       "0            5.0          0.0          0.0       0.0          1.0        5.0   \n",
       "1            1.0          0.0          0.0       0.0          1.0        5.0   \n",
       "2            0.0          0.0          0.0       0.0          1.0        1.0   \n",
       "3            1.0          0.0          0.0       0.0          1.0        1.0   \n",
       "4            0.0          0.0          0.0       0.0          1.0        1.0   \n",
       "\n",
       "   day_of_week_cat  poutcome_cat  \n",
       "0              3.0           0.0  \n",
       "1              3.0           0.0  \n",
       "2              4.0           0.0  \n",
       "3              4.0           0.0  \n",
       "4              4.0           1.0  "
      ]
     },
     "execution_count": 56,
     "metadata": {},
     "output_type": "execute_result"
    }
   ],
   "source": [
    "# visualizando o objeto\n",
    "df2.toPandas().head()"
   ]
  },
  {
   "cell_type": "code",
   "execution_count": 57,
   "id": "bc2fa121-9ba3-4dca-ae53-3f0b5b4c7b7f",
   "metadata": {},
   "outputs": [
    {
     "data": {
      "text/plain": [
       "(5625, 15)"
      ]
     },
     "execution_count": 57,
     "metadata": {},
     "output_type": "execute_result"
    }
   ],
   "source": [
    "# dimensão\n",
    "dataframe_dim(df2)"
   ]
  },
  {
   "cell_type": "code",
   "execution_count": 58,
   "id": "90a7b976-c6d9-47f4-9354-6d0126b2e5e8",
   "metadata": {},
   "outputs": [
    {
     "data": {
      "text/plain": [
       "[('age', 'int'),\n",
       " ('duration', 'int'),\n",
       " ('campaign', 'int'),\n",
       " ('pdays', 'int'),\n",
       " ('previous', 'int'),\n",
       " ('job_cat', 'double'),\n",
       " ('marital_cat', 'double'),\n",
       " ('education_cat', 'double'),\n",
       " ('default_cat', 'double'),\n",
       " ('housing_cat', 'double'),\n",
       " ('loan_cat', 'double'),\n",
       " ('contact_cat', 'double'),\n",
       " ('month_cat', 'double'),\n",
       " ('day_of_week_cat', 'double'),\n",
       " ('poutcome_cat', 'double')]"
      ]
     },
     "execution_count": 58,
     "metadata": {},
     "output_type": "execute_result"
    }
   ],
   "source": [
    "# tipo de dados em cada atributo\n",
    "df2.dtypes"
   ]
  },
  {
   "cell_type": "code",
   "execution_count": 59,
   "id": "14902fbc-63d1-4e3a-a935-9d12dbc6e907",
   "metadata": {},
   "outputs": [],
   "source": [
    "# importando a função para realizar a vetorização dos dados\n",
    "from pyspark.ml.feature import VectorAssembler"
   ]
  },
  {
   "cell_type": "code",
   "execution_count": 60,
   "id": "b8a7dd8b-df64-49e4-a875-172d895da2e6",
   "metadata": {},
   "outputs": [],
   "source": [
    "# instanciando a função e definindo os parâmetros necessários\n",
    "data_selection = VectorAssembler(\n",
    "    inputCols=df2.drop('poutcome_cat').columns,\n",
    "    outputCol='characteristic_variables'\n",
    ")"
   ]
  },
  {
   "cell_type": "code",
   "execution_count": 61,
   "id": "9d504079-f4dd-4595-b3de-c9687015a0de",
   "metadata": {},
   "outputs": [],
   "source": [
    "# aplicando a vetorização nos dados selecionados\n",
    "out = data_selection.transform(df2)"
   ]
  },
  {
   "cell_type": "code",
   "execution_count": 62,
   "id": "bd6e8d3a-5f1f-4109-a3e0-1b1de94b4f05",
   "metadata": {},
   "outputs": [
    {
     "name": "stderr",
     "output_type": "stream",
     "text": [
      "24/02/25 21:35:40 WARN package: Truncated the string representation of a plan since it was too large. This behavior can be adjusted by setting 'spark.sql.debug.maxToStringFields'.\n"
     ]
    },
    {
     "data": {
      "text/plain": [
       "[Row(age=38, duration=39, campaign=1, pdays=999, previous=1, job_cat=1.0, marital_cat=1.0, education_cat=5.0, default_cat=0.0, housing_cat=0.0, loan_cat=0.0, contact_cat=1.0, month_cat=5.0, day_of_week_cat=3.0, poutcome_cat=0.0, characteristic_variables=DenseVector([38.0, 39.0, 1.0, 999.0, 1.0, 1.0, 1.0, 5.0, 0.0, 0.0, 0.0, 1.0, 5.0, 3.0])),\n",
       " Row(age=40, duration=144, campaign=1, pdays=999, previous=1, job_cat=3.0, marital_cat=0.0, education_cat=1.0, default_cat=0.0, housing_cat=0.0, loan_cat=0.0, contact_cat=1.0, month_cat=5.0, day_of_week_cat=3.0, poutcome_cat=0.0, characteristic_variables=DenseVector([40.0, 144.0, 1.0, 999.0, 1.0, 3.0, 0.0, 1.0, 0.0, 0.0, 0.0, 1.0, 5.0, 3.0])),\n",
       " Row(age=36, duration=449, campaign=1, pdays=999, previous=1, job_cat=0.0, marital_cat=0.0, education_cat=0.0, default_cat=0.0, housing_cat=0.0, loan_cat=0.0, contact_cat=1.0, month_cat=1.0, day_of_week_cat=4.0, poutcome_cat=0.0, characteristic_variables=SparseVector(14, {0: 36.0, 1: 449.0, 2: 1.0, 3: 999.0, 4: 1.0, 11: 1.0, 12: 1.0, 13: 4.0}))]"
      ]
     },
     "execution_count": 62,
     "metadata": {},
     "output_type": "execute_result"
    }
   ],
   "source": [
    "# visualizando o conteúdo do objeto - 3 primeiras observações\n",
    "out.head(n=3)"
   ]
  },
  {
   "cell_type": "code",
   "execution_count": 63,
   "id": "f88a71cf-aa86-4721-ba9c-092a67ac2ebb",
   "metadata": {},
   "outputs": [
    {
     "data": {
      "text/plain": [
       "pyspark.sql.dataframe.DataFrame"
      ]
     },
     "execution_count": 63,
     "metadata": {},
     "output_type": "execute_result"
    }
   ],
   "source": [
    "# visualizando o tipo do objeto\n",
    "type(out)"
   ]
  },
  {
   "cell_type": "code",
   "execution_count": 64,
   "id": "2a4c26c6-00b3-44d9-9287-54948cc141b5",
   "metadata": {},
   "outputs": [],
   "source": [
    "# instanciando a entrada dos dados para aplicação posteriormente de modelos de aprendizado de máquina\n",
    "input_data = out.select('characteristic_variables', \n",
    "                        'poutcome_cat')"
   ]
  },
  {
   "cell_type": "code",
   "execution_count": 65,
   "id": "e777ede8-9336-45ca-86bc-f6a061eedaed",
   "metadata": {},
   "outputs": [
    {
     "data": {
      "text/plain": [
       "[Row(characteristic_variables=DenseVector([38.0, 39.0, 1.0, 999.0, 1.0, 1.0, 1.0, 5.0, 0.0, 0.0, 0.0, 1.0, 5.0, 3.0]), poutcome_cat=0.0),\n",
       " Row(characteristic_variables=DenseVector([40.0, 144.0, 1.0, 999.0, 1.0, 3.0, 0.0, 1.0, 0.0, 0.0, 0.0, 1.0, 5.0, 3.0]), poutcome_cat=0.0),\n",
       " Row(characteristic_variables=SparseVector(14, {0: 36.0, 1: 449.0, 2: 1.0, 3: 999.0, 4: 1.0, 11: 1.0, 12: 1.0, 13: 4.0}), poutcome_cat=0.0),\n",
       " Row(characteristic_variables=DenseVector([36.0, 114.0, 1.0, 999.0, 1.0, 0.0, 0.0, 1.0, 0.0, 0.0, 0.0, 1.0, 1.0, 4.0]), poutcome_cat=0.0),\n",
       " Row(characteristic_variables=SparseVector(14, {0: 37.0, 1: 119.0, 2: 1.0, 3: 6.0, 4: 1.0, 11: 1.0, 12: 1.0, 13: 4.0}), poutcome_cat=1.0)]"
      ]
     },
     "execution_count": 65,
     "metadata": {},
     "output_type": "execute_result"
    }
   ],
   "source": [
    "# visualizando as 5 primeiras observações\n",
    "input_data.head(n=5)"
   ]
  },
  {
   "cell_type": "code",
   "execution_count": 66,
   "id": "92118e07-8cfe-42ed-8641-2fb3d8a70bbd",
   "metadata": {},
   "outputs": [
    {
     "name": "stdout",
     "output_type": "stream",
     "text": [
      "+------------------------+------------+\n",
      "|characteristic_variables|poutcome_cat|\n",
      "+------------------------+------------+\n",
      "|    [38.0,39.0,1.0,99...|         0.0|\n",
      "|    [40.0,144.0,1.0,9...|         0.0|\n",
      "|    (14,[0,1,2,3,4,11...|         0.0|\n",
      "|    [36.0,114.0,1.0,9...|         0.0|\n",
      "|    (14,[0,1,2,3,4,11...|         1.0|\n",
      "|    (14,[0,1,2,3,4,5,...|         0.0|\n",
      "|    [42.0,200.0,1.0,9...|         0.0|\n",
      "|    [34.0,303.0,1.0,9...|         0.0|\n",
      "|    (14,[0,1,2,3,4,5,...|         0.0|\n",
      "|    [51.0,324.0,1.0,9...|         0.0|\n",
      "|    (14,[0,1,2,3,4,10...|         0.0|\n",
      "|    (14,[0,1,2,3,4,5,...|         0.0|\n",
      "|    [44.0,115.0,1.0,9...|         0.0|\n",
      "|    [36.0,68.0,1.0,99...|         0.0|\n",
      "|    [50.0,134.0,1.0,9...|         0.0|\n",
      "|    [41.0,297.0,1.0,9...|         0.0|\n",
      "|    [50.0,120.0,1.0,9...|         0.0|\n",
      "|    [43.0,75.0,1.0,99...|         0.0|\n",
      "|    [31.0,396.0,1.0,9...|         0.0|\n",
      "|    (14,[0,1,2,3,4,12...|         0.0|\n",
      "+------------------------+------------+\n",
      "only showing top 20 rows\n",
      "\n"
     ]
    }
   ],
   "source": [
    "# utilizando o método \".show()\" para visualizar os dados de entrada e saída\n",
    "input_data.show()"
   ]
  },
  {
   "cell_type": "code",
   "execution_count": 67,
   "id": "e9721f9d-afe9-472b-854e-026f891182f2",
   "metadata": {},
   "outputs": [],
   "source": [
    "# instanciando os dados de treino e validação\n",
    "(train_data, val_data) = input_data.randomSplit(\n",
    "    weights=[0.75, 0.25], seed=1522\n",
    ")"
   ]
  },
  {
   "cell_type": "code",
   "execution_count": 69,
   "id": "9d35c212-1cee-42a7-9724-8637f36994ce",
   "metadata": {},
   "outputs": [
    {
     "name": "stdout",
     "output_type": "stream",
     "text": [
      "+------------------------+------------+\n",
      "|characteristic_variables|poutcome_cat|\n",
      "+------------------------+------------+\n",
      "|    (14,[0,1,2,3,4,5,...|         0.0|\n",
      "|    (14,[0,1,2,3,4,5,...|         0.0|\n",
      "|    (14,[0,1,2,3,4,5,...|         0.0|\n",
      "|    (14,[0,1,2,3,4,5,...|         0.0|\n",
      "|    (14,[0,1,2,3,4,5,...|         0.0|\n",
      "|    (14,[0,1,2,3,4,5,...|         0.0|\n",
      "|    (14,[0,1,2,3,4,5,...|         0.0|\n",
      "|    (14,[0,1,2,3,4,5,...|         0.0|\n",
      "|    (14,[0,1,2,3,4,5,...|         0.0|\n",
      "|    (14,[0,1,2,3,4,5,...|         0.0|\n",
      "|    (14,[0,1,2,3,4,5,...|         0.0|\n",
      "|    (14,[0,1,2,3,4,5,...|         0.0|\n",
      "|    (14,[0,1,2,3,4,5,...|         0.0|\n",
      "|    (14,[0,1,2,3,4,5,...|         0.0|\n",
      "|    (14,[0,1,2,3,4,5,...|         0.0|\n",
      "|    (14,[0,1,2,3,4,5,...|         0.0|\n",
      "|    (14,[0,1,2,3,4,5,...|         0.0|\n",
      "|    (14,[0,1,2,3,4,5,...|         0.0|\n",
      "|    (14,[0,1,2,3,4,5,...|         0.0|\n",
      "|    (14,[0,1,2,3,4,5,...|         0.0|\n",
      "+------------------------+------------+\n",
      "only showing top 20 rows\n",
      "\n"
     ]
    }
   ],
   "source": [
    "# visualizando o conteúdo do objeto \"train_data\"\n",
    "train_data.show()"
   ]
  },
  {
   "cell_type": "code",
   "execution_count": 70,
   "id": "f6782ecc-27a2-48b5-8110-2339461d3037",
   "metadata": {},
   "outputs": [
    {
     "name": "stdout",
     "output_type": "stream",
     "text": [
      "+------------------------+------------+\n",
      "|characteristic_variables|poutcome_cat|\n",
      "+------------------------+------------+\n",
      "|    (14,[0,1,2,3,4,5,...|         0.0|\n",
      "|    (14,[0,1,2,3,4,5,...|         0.0|\n",
      "|    (14,[0,1,2,3,4,5,...|         0.0|\n",
      "|    (14,[0,1,2,3,4,5,...|         0.0|\n",
      "|    (14,[0,1,2,3,4,5,...|         0.0|\n",
      "|    (14,[0,1,2,3,4,5,...|         0.0|\n",
      "|    (14,[0,1,2,3,4,5,...|         0.0|\n",
      "|    (14,[0,1,2,3,4,5,...|         0.0|\n",
      "|    (14,[0,1,2,3,4,5,...|         0.0|\n",
      "|    (14,[0,1,2,3,4,5,...|         0.0|\n",
      "|    (14,[0,1,2,3,4,5,...|         0.0|\n",
      "|    (14,[0,1,2,3,4,5,...|         0.0|\n",
      "|    (14,[0,1,2,3,4,5,...|         0.0|\n",
      "|    (14,[0,1,2,3,4,5,...|         0.0|\n",
      "|    (14,[0,1,2,3,4,5,...|         0.0|\n",
      "|    (14,[0,1,2,3,4,5,...|         0.0|\n",
      "|    (14,[0,1,2,3,4,5,...|         0.0|\n",
      "|    (14,[0,1,2,3,4,5,...|         0.0|\n",
      "|    (14,[0,1,2,3,4,5,...|         1.0|\n",
      "|    (14,[0,1,2,3,4,5,...|         0.0|\n",
      "+------------------------+------------+\n",
      "only showing top 20 rows\n",
      "\n"
     ]
    }
   ],
   "source": [
    "# visualizando o conteúdo do objeto \"val_data\"\n",
    "val_data.show()"
   ]
  },
  {
   "cell_type": "code",
   "execution_count": 72,
   "id": "7d97b341-99d3-4a76-b107-e731d9f04f5c",
   "metadata": {},
   "outputs": [],
   "source": [
    "# importando as funções de modelos de aprendizado de máquina\n",
    "from pyspark.ml.classification import (LogisticRegression, \n",
    "                                       DecisionTreeClassifier,\n",
    "                                       RandomForestClassifier, \n",
    "                                       NaiveBayes)"
   ]
  },
  {
   "cell_type": "code",
   "execution_count": 73,
   "id": "4b5a8ab0-b335-412a-afde-d126fa12c9a0",
   "metadata": {},
   "outputs": [],
   "source": [
    "# instanciando os modelos\n",
    "\n",
    "# regressão logística\n",
    "mdl_logReg = LogisticRegression(\n",
    "    featuresCol='characteristic_variables',\n",
    "    labelCol='poutcome_cat'\n",
    ")\n",
    "\n",
    "# árvore de decisão\n",
    "mdl_decTree = DecisionTreeClassifier(\n",
    "    featuresCol='characteristic_variables',\n",
    "    labelCol='poutcome_cat'\n",
    ")\n",
    "\n",
    "# floresta randômica\n",
    "mdl_randFor = RandomForestClassifier(\n",
    "    featuresCol='characteristic_variables',\n",
    "    labelCol='poutcome_cat'\n",
    ")\n",
    "\n",
    "# naive bayes\n",
    "mdl_nBayes = NaiveBayes(\n",
    "    featuresCol='characteristic_variables',\n",
    "    labelCol='poutcome_cat'\n",
    ")"
   ]
  },
  {
   "cell_type": "code",
   "execution_count": 74,
   "id": "12a10c01-4296-4abe-b59d-bc5d9b214a5a",
   "metadata": {},
   "outputs": [],
   "source": [
    "# aplicando o treinamento dos modelos\n",
    "mdl_training_logReg = mdl_logReg.fit(train_data)\n",
    "mdl_training_decTree = mdl_decTree.fit(train_data)\n",
    "mdl_training_randFor = mdl_randFor.fit(train_data)\n",
    "mdl_training_nBayes = mdl_nBayes.fit(train_data)"
   ]
  },
  {
   "cell_type": "code",
   "execution_count": 75,
   "id": "def01c37-0cff-4f8e-8616-97938d468b82",
   "metadata": {},
   "outputs": [],
   "source": [
    "# aplicando o modelo treinado nos dados de validação\n",
    "pred_logReg = mdl_training_logReg.transform(val_data)\n",
    "pred_decTree = mdl_training_decTree.transform(val_data)\n",
    "pred_randFor = mdl_training_randFor.transform(val_data)\n",
    "pred_nBayes = mdl_training_nBayes.transform(val_data)"
   ]
  },
  {
   "cell_type": "code",
   "execution_count": 76,
   "id": "5e0a94ca-da7c-44d8-acd2-a43843db5ca4",
   "metadata": {},
   "outputs": [
    {
     "name": "stdout",
     "output_type": "stream",
     "text": [
      "+------------------------+------------+--------------------+-----------+----------+\n",
      "|characteristic_variables|poutcome_cat|       rawPrediction|probability|prediction|\n",
      "+------------------------+------------+--------------------+-----------+----------+\n",
      "|    (14,[0,1,2,3,4,5,...|         0.0|[340.033676815626...|  [1.0,0.0]|       0.0|\n",
      "|    (14,[0,1,2,3,4,5,...|         0.0|[339.914770644160...|  [1.0,0.0]|       0.0|\n",
      "|    (14,[0,1,2,3,4,5,...|         0.0|[340.096393421201...|  [1.0,0.0]|       0.0|\n",
      "|    (14,[0,1,2,3,4,5,...|         0.0|[340.018074044485...|  [1.0,0.0]|       0.0|\n",
      "|    (14,[0,1,2,3,4,5,...|         0.0|[340.076511051763...|  [1.0,0.0]|       0.0|\n",
      "|    (14,[0,1,2,3,4,5,...|         0.0|[340.283417556996...|  [1.0,0.0]|       0.0|\n",
      "|    (14,[0,1,2,3,4,5,...|         0.0|[340.470456660706...|  [1.0,0.0]|       0.0|\n",
      "|    (14,[0,1,2,3,4,5,...|         0.0|[339.978606038139...|  [1.0,0.0]|       0.0|\n",
      "|    (14,[0,1,2,3,4,5,...|         0.0|[340.058978036345...|  [1.0,0.0]|       0.0|\n",
      "|    (14,[0,1,2,3,4,5,...|         0.0|[341.218682652041...|  [1.0,0.0]|       0.0|\n",
      "+------------------------+------------+--------------------+-----------+----------+\n",
      "only showing top 10 rows\n",
      "\n"
     ]
    }
   ],
   "source": [
    "# visualizando as 10 primeiras predições do modelo de regressão logística\n",
    "pred_logReg.show(n=10)"
   ]
  },
  {
   "cell_type": "code",
   "execution_count": 77,
   "id": "f57174cb-d783-4ea6-8e3b-0ad1ef603083",
   "metadata": {},
   "outputs": [
    {
     "name": "stdout",
     "output_type": "stream",
     "text": [
      "+------------------------+------------+-------------+-----------+----------+\n",
      "|characteristic_variables|poutcome_cat|rawPrediction|probability|prediction|\n",
      "+------------------------+------------+-------------+-----------+----------+\n",
      "|    (14,[0,1,2,3,4,5,...|         0.0| [3108.0,0.0]|  [1.0,0.0]|       0.0|\n",
      "|    (14,[0,1,2,3,4,5,...|         0.0| [3108.0,0.0]|  [1.0,0.0]|       0.0|\n",
      "|    (14,[0,1,2,3,4,5,...|         0.0| [3108.0,0.0]|  [1.0,0.0]|       0.0|\n",
      "|    (14,[0,1,2,3,4,5,...|         0.0| [3108.0,0.0]|  [1.0,0.0]|       0.0|\n",
      "|    (14,[0,1,2,3,4,5,...|         0.0| [3108.0,0.0]|  [1.0,0.0]|       0.0|\n",
      "|    (14,[0,1,2,3,4,5,...|         0.0| [3108.0,0.0]|  [1.0,0.0]|       0.0|\n",
      "|    (14,[0,1,2,3,4,5,...|         0.0| [3108.0,0.0]|  [1.0,0.0]|       0.0|\n",
      "|    (14,[0,1,2,3,4,5,...|         0.0| [3108.0,0.0]|  [1.0,0.0]|       0.0|\n",
      "|    (14,[0,1,2,3,4,5,...|         0.0| [3108.0,0.0]|  [1.0,0.0]|       0.0|\n",
      "|    (14,[0,1,2,3,4,5,...|         0.0| [3108.0,0.0]|  [1.0,0.0]|       0.0|\n",
      "+------------------------+------------+-------------+-----------+----------+\n",
      "only showing top 10 rows\n",
      "\n"
     ]
    }
   ],
   "source": [
    "# visualizando as 10 primeiras predições do modelo de árvore de decisão\n",
    "pred_decTree.show(n=10)"
   ]
  },
  {
   "cell_type": "code",
   "execution_count": 78,
   "id": "88307fb5-e78d-414a-bd2f-cb758d159752",
   "metadata": {},
   "outputs": [
    {
     "name": "stdout",
     "output_type": "stream",
     "text": [
      "+------------------------+------------+--------------------+--------------------+----------+\n",
      "|characteristic_variables|poutcome_cat|       rawPrediction|         probability|prediction|\n",
      "+------------------------+------------+--------------------+--------------------+----------+\n",
      "|    (14,[0,1,2,3,4,5,...|         0.0|[18.3182051225232...|[0.91591025612616...|       0.0|\n",
      "|    (14,[0,1,2,3,4,5,...|         0.0|[19.3108964068467...|[0.96554482034233...|       0.0|\n",
      "|    (14,[0,1,2,3,4,5,...|         0.0|[19.4502627428139...|[0.97251313714069...|       0.0|\n",
      "|    (14,[0,1,2,3,4,5,...|         0.0|[18.6045320246942...|[0.93022660123471...|       0.0|\n",
      "|    (14,[0,1,2,3,4,5,...|         0.0|[18.8543194871427...|[0.94271597435713...|       0.0|\n",
      "|    (14,[0,1,2,3,4,5,...|         0.0|[19.5606734370590...|[0.97803367185295...|       0.0|\n",
      "|    (14,[0,1,2,3,4,5,...|         0.0|[19.4404493001205...|[0.97202246500602...|       0.0|\n",
      "|    (14,[0,1,2,3,4,5,...|         0.0|[19.2457112216615...|[0.96228556108307...|       0.0|\n",
      "|    (14,[0,1,2,3,4,5,...|         0.0|[18.8165420453249...|[0.94082710226624...|       0.0|\n",
      "|    (14,[0,1,2,3,4,5,...|         0.0|[18.0720756656013...|[0.90360378328006...|       0.0|\n",
      "+------------------------+------------+--------------------+--------------------+----------+\n",
      "only showing top 10 rows\n",
      "\n"
     ]
    }
   ],
   "source": [
    "# visualizando as 10 primeiras predições do modelo de floresta aleatória\n",
    "pred_randFor.show(n=10)"
   ]
  },
  {
   "cell_type": "code",
   "execution_count": 79,
   "id": "05bef300-0cdd-4d33-b679-d38963631bfa",
   "metadata": {},
   "outputs": [
    {
     "name": "stdout",
     "output_type": "stream",
     "text": [
      "+------------------------+------------+--------------------+-----------+----------+\n",
      "|characteristic_variables|poutcome_cat|       rawPrediction|probability|prediction|\n",
      "+------------------------+------------+--------------------+-----------+----------+\n",
      "|    (14,[0,1,2,3,4,5,...|         0.0|[-912.12284687536...|  [1.0,0.0]|       0.0|\n",
      "|    (14,[0,1,2,3,4,5,...|         0.0|[-549.28378260911...|  [1.0,0.0]|       0.0|\n",
      "|    (14,[0,1,2,3,4,5,...|         0.0|[-664.73738202033...|  [1.0,0.0]|       0.0|\n",
      "|    (14,[0,1,2,3,4,5,...|         0.0|[-734.70391646260...|  [1.0,0.0]|       0.0|\n",
      "|    (14,[0,1,2,3,4,5,...|         0.0|[-821.79466092492...|  [1.0,0.0]|       0.0|\n",
      "|    (14,[0,1,2,3,4,5,...|         0.0|[-689.67441529997...|  [1.0,0.0]|       0.0|\n",
      "|    (14,[0,1,2,3,4,5,...|         0.0|[-594.06586457107...|  [1.0,0.0]|       0.0|\n",
      "|    (14,[0,1,2,3,4,5,...|         0.0|[-627.33374996184...|  [1.0,0.0]|       0.0|\n",
      "|    (14,[0,1,2,3,4,5,...|         0.0|[-756.79130449304...|  [1.0,0.0]|       0.0|\n",
      "|    (14,[0,1,2,3,4,5,...|         0.0|[-773.18974175052...|  [1.0,0.0]|       0.0|\n",
      "+------------------------+------------+--------------------+-----------+----------+\n",
      "only showing top 10 rows\n",
      "\n"
     ]
    }
   ],
   "source": [
    "# visualizando as 10 primeiras predições do modelo de naive bayes\n",
    "pred_nBayes.show(n=10)"
   ]
  },
  {
   "cell_type": "code",
   "execution_count": 80,
   "id": "33dff369-687e-45a7-ba82-760416a6c408",
   "metadata": {},
   "outputs": [],
   "source": [
    "# importando função para avaliação dos modelos\n",
    "from pyspark.ml.evaluation import MulticlassClassificationEvaluator"
   ]
  },
  {
   "cell_type": "code",
   "execution_count": 81,
   "id": "f7a4f9ee-4785-4745-b8e5-cdede5489ef1",
   "metadata": {},
   "outputs": [],
   "source": [
    "# instanciando o objeto avaliador e seus parâmetros\n",
    "eval = MulticlassClassificationEvaluator(\n",
    "    predictionCol='prediction',\n",
    "    labelCol='poutcome_cat',\n",
    "    metricName='accuracy'\n",
    ")"
   ]
  },
  {
   "cell_type": "code",
   "execution_count": 82,
   "id": "565000fc-2081-45e4-9d79-1d5d10380017",
   "metadata": {},
   "outputs": [],
   "source": [
    "# aplicando o avaliador nos modelos\n",
    "acc_logReg = eval.evaluate(dataset=pred_logReg)\n",
    "acc_decTree = eval.evaluate(dataset=pred_decTree)\n",
    "acc_randFor = eval.evaluate(dataset=pred_randFor)\n",
    "acc_nBayes = eval.evaluate(dataset=pred_nBayes)"
   ]
  },
  {
   "cell_type": "code",
   "execution_count": 83,
   "id": "63ffcc74-c1ae-4b95-8a36-b09c50b41b57",
   "metadata": {},
   "outputs": [
    {
     "name": "stdout",
     "output_type": "stream",
     "text": [
      "\t[ACCURACY]\n",
      "==============================\n",
      "Logistic Regression: 97.4982%\n",
      "Decision Tree      : 98.1415%\n",
      "Random Forest      : 97.5697%\n",
      "Naive Bayes        : 97.4267%\n"
     ]
    }
   ],
   "source": [
    "# imprimindo o resultado da acurácia dos modelos\n",
    "print('\\t[ACCURACY]')\n",
    "print('=' * 30)\n",
    "print(f'Logistic Regression: {(acc_logReg * 100):.4f}%')\n",
    "print(f'Decision Tree      : {(acc_decTree * 100):.4f}%')\n",
    "print(f'Random Forest      : {(acc_randFor * 100):.4f}%')\n",
    "print(f'Naive Bayes        : {(acc_nBayes * 100):.4f}%')"
   ]
  },
  {
   "cell_type": "code",
   "execution_count": 84,
   "id": "c1729bcb-a0fe-4b24-afa5-5a45901e5b44",
   "metadata": {},
   "outputs": [],
   "source": [
    "# importando as funções do \"sckit-learn\" para auxiliar na visualização das métricas\n",
    "from sklearn.metrics import classification_report, confusion_matrix, ConfusionMatrixDisplay"
   ]
  },
  {
   "cell_type": "code",
   "execution_count": 85,
   "id": "e4a5c095-323a-4cdb-9634-7686797bd117",
   "metadata": {},
   "outputs": [],
   "source": [
    "# realizando a seleção dos dados em cada modelo\n",
    "df_pred_logReg = pred_logReg.select(\n",
    "    'prediction', 'poutcome_cat'\n",
    ").toPandas()\n",
    "\n",
    "df_pred_decTree = pred_decTree.select(\n",
    "    'prediction', 'poutcome_cat'\n",
    ").toPandas()\n",
    "\n",
    "df_pred_randFor = pred_randFor.select(\n",
    "    'prediction', 'poutcome_cat'\n",
    ").toPandas()\n",
    "\n",
    "df_pred_nBayes = pred_nBayes.select(\n",
    "    'prediction', 'poutcome_cat'\n",
    ").toPandas()"
   ]
  },
  {
   "cell_type": "code",
   "execution_count": 86,
   "id": "65833756-4c3a-4782-8597-dd1cdb4c5457",
   "metadata": {},
   "outputs": [
    {
     "name": "stdout",
     "output_type": "stream",
     "text": [
      "              precision    recall  f1-score   support\n",
      "\n",
      "         0.0       0.99      0.98      0.98      1038\n",
      "         1.0       0.93      0.97      0.95       361\n",
      "\n",
      "    accuracy                           0.97      1399\n",
      "   macro avg       0.96      0.97      0.97      1399\n",
      "weighted avg       0.98      0.97      0.98      1399\n",
      "\n",
      "[[1013   25]\n",
      " [  10  351]]\n",
      "\n"
     ]
    },
    {
     "data": {
      "image/png": "[encoded data removed]",
      "text/plain": [
       "<Figure size 500x500 with 2 Axes>"
      ]
     },
     "metadata": {},
     "output_type": "display_data"
    }
   ],
   "source": [
    "# calculando a matriz de confusão, exibindo o relatório do modelo e o resultado da matriz de confusão\n",
    "conf_mat_logReg = confusion_matrix(\n",
    "    y_true=df_pred_logReg['poutcome_cat'],\n",
    "    y_pred=df_pred_logReg['prediction']\n",
    ")\n",
    "\n",
    "print(classification_report(y_true=df_pred_logReg['poutcome_cat'], \n",
    "                            y_pred=df_pred_logReg['prediction']))\n",
    "\n",
    "print(conf_mat_logReg, end='\\n\\n')\n",
    "\n",
    "cm = ConfusionMatrixDisplay(conf_mat_logReg, \n",
    "                            display_labels=['no', 'yes'])\n",
    "\n",
    "fig, ax = plt.subplots(figsize=(5, 5))\n",
    "\n",
    "ax.grid(False)\n",
    "cm.plot(ax=ax);"
   ]
  },
  {
   "cell_type": "code",
   "execution_count": 87,
   "id": "b93cd021-320e-47b4-a47d-a3b5efae3134",
   "metadata": {},
   "outputs": [
    {
     "name": "stdout",
     "output_type": "stream",
     "text": [
      "              precision    recall  f1-score   support\n",
      "\n",
      "         0.0       0.98      0.99      0.99      1038\n",
      "         1.0       0.97      0.95      0.96       361\n",
      "\n",
      "    accuracy                           0.98      1399\n",
      "   macro avg       0.98      0.97      0.98      1399\n",
      "weighted avg       0.98      0.98      0.98      1399\n",
      "\n",
      "[[1029    9]\n",
      " [  17  344]]\n",
      "\n"
     ]
    },
    {
     "data": {
      "image/png": "[encoded data removed]",
      "text/plain": [
       "<Figure size 500x500 with 2 Axes>"
      ]
     },
     "metadata": {},
     "output_type": "display_data"
    }
   ],
   "source": [
    "conf_mat_decTree = confusion_matrix(\n",
    "    y_true=df_pred_decTree['poutcome_cat'],\n",
    "    y_pred=df_pred_decTree['prediction']\n",
    ")\n",
    "\n",
    "print(classification_report(y_true=df_pred_decTree['poutcome_cat'], \n",
    "                            y_pred=df_pred_decTree['prediction']))\n",
    "\n",
    "print(conf_mat_decTree, end='\\n\\n')\n",
    "\n",
    "cm = ConfusionMatrixDisplay(conf_mat_decTree, \n",
    "                            display_labels=['no', 'yes'])\n",
    "\n",
    "fig, ax = plt.subplots(figsize=(5, 5))\n",
    "\n",
    "ax.grid(False)\n",
    "cm.plot(ax=ax);"
   ]
  },
  {
   "cell_type": "code",
   "execution_count": 88,
   "id": "82c1f89e-fc1f-487d-91ce-1a33858522bb",
   "metadata": {},
   "outputs": [
    {
     "name": "stdout",
     "output_type": "stream",
     "text": [
      "              precision    recall  f1-score   support\n",
      "\n",
      "         0.0       0.99      0.97      0.98      1038\n",
      "         1.0       0.93      0.98      0.95       361\n",
      "\n",
      "    accuracy                           0.98      1399\n",
      "   macro avg       0.96      0.98      0.97      1399\n",
      "weighted avg       0.98      0.98      0.98      1399\n",
      "\n",
      "[[1012   26]\n",
      " [   8  353]]\n",
      "\n"
     ]
    },
    {
     "data": {
      "image/png": "[encoded data removed]",
      "text/plain": [
       "<Figure size 500x500 with 2 Axes>"
      ]
     },
     "metadata": {},
     "output_type": "display_data"
    }
   ],
   "source": [
    "conf_mat_randFor = confusion_matrix(\n",
    "    y_true=df_pred_randFor['poutcome_cat'],\n",
    "    y_pred=df_pred_randFor['prediction']\n",
    ")\n",
    "\n",
    "print(classification_report(y_true=df_pred_randFor['poutcome_cat'], \n",
    "                            y_pred=df_pred_randFor['prediction']))\n",
    "\n",
    "print(conf_mat_randFor, end='\\n\\n')\n",
    "\n",
    "cm = ConfusionMatrixDisplay(conf_mat_randFor, \n",
    "                            display_labels=['no', 'yes'])\n",
    "\n",
    "fig, ax = plt.subplots(figsize=(5, 5))\n",
    "\n",
    "ax.grid(False)\n",
    "cm.plot(ax=ax);"
   ]
  },
  {
   "cell_type": "code",
   "execution_count": 89,
   "id": "e911ce6f-3eda-482f-87ee-12d1b4bf1441",
   "metadata": {},
   "outputs": [
    {
     "name": "stdout",
     "output_type": "stream",
     "text": [
      "              precision    recall  f1-score   support\n",
      "\n",
      "         0.0       1.00      0.97      0.98      1038\n",
      "         1.0       0.91      1.00      0.95       361\n",
      "\n",
      "    accuracy                           0.97      1399\n",
      "   macro avg       0.95      0.98      0.97      1399\n",
      "weighted avg       0.98      0.97      0.97      1399\n",
      "\n",
      "[[1002   36]\n",
      " [   0  361]]\n",
      "\n"
     ]
    },
    {
     "data": {
      "image/png": "[encoded data removed]",
      "text/plain": [
       "<Figure size 500x500 with 2 Axes>"
      ]
     },
     "metadata": {},
     "output_type": "display_data"
    }
   ],
   "source": [
    "conf_mat_nBayes = confusion_matrix(\n",
    "    y_true=df_pred_nBayes['poutcome_cat'],\n",
    "    y_pred=df_pred_nBayes['prediction']\n",
    ")\n",
    "\n",
    "print(classification_report(y_true=df_pred_nBayes['poutcome_cat'], \n",
    "                            y_pred=df_pred_nBayes['prediction']))\n",
    "\n",
    "print(conf_mat_nBayes, end='\\n\\n')\n",
    "\n",
    "cm = ConfusionMatrixDisplay(conf_mat_nBayes, \n",
    "                            display_labels=['no', 'yes'])\n",
    "\n",
    "fig, ax = plt.subplots(figsize=(5, 5))\n",
    "\n",
    "ax.grid(False)\n",
    "cm.plot(ax=ax);"
   ]
  },
  {
   "cell_type": "code",
   "execution_count": 90,
   "id": "c566109e-aa04-4dd0-9223-efac4b1f931a",
   "metadata": {},
   "outputs": [
    {
     "name": "stdout",
     "output_type": "stream",
     "text": [
      "Variable                            Type                                 Data/Info\n",
      "----------------------------------------------------------------------------------\n",
      "ClassBalance                        type                                 <class 'yellowbrick.targe<...>ss_balance.ClassBalance'>\n",
      "ConfusionMatrixDisplay              type                                 <class 'sklearn.metrics._<...>.ConfusionMatrixDisplay'>\n",
      "DecisionTreeClassifier              ABCMeta                              <class 'pyspark.ml.classi<...>.DecisionTreeClassifier'>\n",
      "LogisticRegression                  ABCMeta                              <class 'pyspark.ml.classi<...>tion.LogisticRegression'>\n",
      "MulticlassClassificationEvaluator   ABCMeta                              <class 'pyspark.ml.evalua<...>ClassificationEvaluator'>\n",
      "NaiveBayes                          ABCMeta                              <class 'pyspark.ml.classification.NaiveBayes'>\n",
      "RandomForestClassifier              ABCMeta                              <class 'pyspark.ml.classi<...>.RandomForestClassifier'>\n",
      "SparkSession                        type                                 <class 'pyspark.sql.session.SparkSession'>\n",
      "StringIndexer                       ABCMeta                              <class 'pyspark.ml.feature.StringIndexer'>\n",
      "VectorAssembler                     ABCMeta                              <class 'pyspark.ml.feature.VectorAssembler'>\n",
      "acc_decTree                         float                                0.9814152966404575\n",
      "acc_logReg                          float                                0.9749821300929236\n",
      "acc_nBayes                          float                                0.9742673338098642\n",
      "acc_randFor                         float                                0.9756969263759828\n",
      "ax                                  Axes                                 Axes(0.125,0.185;0.62x0.62)\n",
      "class_data                          Series                               0        nonexistent\\n1  <...>gth: 41188, dtype: object\n",
      "classification_report               function                             <function classification_<...>report at 0x7ff9ac8fcaf0>\n",
      "cm                                  ConfusionMatrixDisplay               <sklearn.metrics._plot.co<...>object at 0x7ff9aaa2fee0>\n",
      "conf_mat_decTree                    ndarray                              2x2: 4 elems, type `int64`, 32 bytes\n",
      "conf_mat_logReg                     ndarray                              2x2: 4 elems, type `int64`, 32 bytes\n",
      "conf_mat_nBayes                     ndarray                              2x2: 4 elems, type `int64`, 32 bytes\n",
      "conf_mat_randFor                    ndarray                              2x2: 4 elems, type `int64`, 32 bytes\n",
      "confusion_matrix                    function                             <function confusion_matrix at 0x7ff9ac89fa30>\n",
      "data_selection                      VectorAssembler                      VectorAssembler_8bff39326c89\n",
      "dataframe_dim                       function                             <function dataframe_dim at 0x7ff9e9ba28c0>\n",
      "df                                  DataFrame                            DataFrame[age: int, job: <...>loyed: double, y: string]\n",
      "df2                                 DataFrame                            DataFrame[age: int, durat<...>le, poutcome_cat: double]\n",
      "df_pandas                           DataFrame                                   age          job  <...>[41188 rows x 21 columns]\n",
      "df_pred_decTree                     DataFrame                                  prediction  poutcom<...>\\n[1399 rows x 2 columns]\n",
      "df_pred_logReg                      DataFrame                                  prediction  poutcom<...>\\n[1399 rows x 2 columns]\n",
      "df_pred_nBayes                      DataFrame                                  prediction  poutcom<...>\\n[1399 rows x 2 columns]\n",
      "df_pred_randFor                     DataFrame                                  prediction  poutcom<...>\\n[1399 rows x 2 columns]\n",
      "eval                                MulticlassClassificationEvaluator    MulticlassClassificationEvaluator_65dc6791f376\n",
      "fig                                 Figure                               Figure(500x500)\n",
      "indexed                             DataFrame                            DataFrame[age: int, job: <...>le, poutcome_cat: double]\n",
      "indexer                             StringIndexer                        StringIndexer_2642e612655d\n",
      "input_data                          DataFrame                            DataFrame[characteristic_<...>or, poutcome_cat: double]\n",
      "job_count                           DataFrame                            DataFrame[job: string, count: bigint]\n",
      "job_count2                          DataFrame                                          job  count\\<...>n11        unknown    330\n",
      "mdl_decTree                         DecisionTreeClassifier               DecisionTreeClassifier_151ca1aef298\n",
      "mdl_logReg                          LogisticRegression                   LogisticRegression_d04847f5ffc2\n",
      "mdl_nBayes                          NaiveBayes                           NaiveBayes_8e3e730ce1d9\n",
      "mdl_randFor                         RandomForestClassifier               RandomForestClassifier_57edfa60bcdc\n",
      "mdl_training_decTree                DecisionTreeClassificationModel      DecisionTreeClassificatio<...>Classes=2, numFeatures=14\n",
      "mdl_training_logReg                 LogisticRegressionModel              LogisticRegressionModel: <...>Classes=2, numFeatures=14\n",
      "mdl_training_nBayes                 NaiveBayesModel                      NaiveBayesModel: uid=Naiv<...>Classes=2, numFeatures=14\n",
      "mdl_training_randFor                RandomForestClassificationModel      RandomForestClassificatio<...>Classes=2, numFeatures=14\n",
      "out                                 DataFrame                            DataFrame[age: int, durat<...>ristic_variables: vector]\n",
      "pd                                  module                               <module 'pandas' from '/h<...>ages/pandas/__init__.py'>\n",
      "plt                                 module                               <module 'matplotlib.pyplo<...>es/matplotlib/pyplot.py'>\n",
      "pred_decTree                        DataFrame                            DataFrame[characteristic_<...>ctor, prediction: double]\n",
      "pred_logReg                         DataFrame                            DataFrame[characteristic_<...>ctor, prediction: double]\n",
      "pred_nBayes                         DataFrame                            DataFrame[characteristic_<...>ctor, prediction: double]\n",
      "pred_randFor                        DataFrame                            DataFrame[characteristic_<...>ctor, prediction: double]\n",
      "ps                                  module                               <module 'pyspark' from '/<...>ges/pyspark/__init__.py'>\n",
      "python_version                      function                             <function python_version at 0x7ffa1534de10>\n",
      "rcParams                            RcParams                             _internal.classic_mode: F<...>: 0.5\\nytick.right: False\n",
      "spark_session                       SparkSession                         <pyspark.sql.session.Spar<...>object at 0x7ffa13ba6170>\n",
      "train_data                          DataFrame                            DataFrame[characteristic_<...>or, poutcome_cat: double]\n",
      "val_data                            DataFrame                            DataFrame[characteristic_<...>or, poutcome_cat: double]\n",
      "viz                                 ClassBalance                         ClassBalance(ax=<Axes: ti<...>', 'failure', 'success'])\n",
      "warnings                            module                               <module 'warnings' from '<...>/python3.10/warnings.py'>\n"
     ]
    }
   ],
   "source": [
    "# visualizando as variáveis de ambiente\n",
    "%whos"
   ]
  },
  {
   "cell_type": "code",
   "execution_count": null,
   "id": "1805b7c9-8928-4607-a3b1-139083f9ffad",
   "metadata": {},
   "outputs": [],
   "source": []
  },
  {
   "cell_type": "code",
   "execution_count": null,
   "id": "265af3e2-5a25-422a-b311-ca6ead306165",
   "metadata": {},
   "outputs": [],
   "source": []
  },
  {
   "cell_type": "code",
   "execution_count": null,
   "id": "a1401dc2-3b75-4c3c-8d2e-ab17c0247bb3",
   "metadata": {},
   "outputs": [],
   "source": []
  }
 ],
 "metadata": {
  "kernelspec": {
   "display_name": "Python 3 (ipykernel)",
   "language": "python",
   "name": "python3"
  },
  "language_info": {
   "codemirror_mode": {
    "name": "ipython",
    "version": 3
   },
   "file_extension": ".py",
   "mimetype": "text/x-python",
   "name": "python",
   "nbconvert_exporter": "python",
   "pygments_lexer": "ipython3",
   "version": "3.10.12"
  }
 },
 "nbformat": 4,
 "nbformat_minor": 5
}
